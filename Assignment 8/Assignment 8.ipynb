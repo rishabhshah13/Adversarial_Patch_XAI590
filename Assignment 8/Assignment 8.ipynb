{
  "nbformat": 4,
  "nbformat_minor": 0,
  "metadata": {
    "colab": {
      "provenance": [],
      "authorship_tag": "ABX9TyPtWQ4t1nrtDAfcFb/u7Nve",
      "include_colab_link": true
    },
    "kernelspec": {
      "name": "python3",
      "display_name": "Python 3"
    },
    "language_info": {
      "name": "python"
    }
  },
  "cells": [
    {
      "cell_type": "markdown",
      "metadata": {
        "id": "view-in-github",
        "colab_type": "text"
      },
      "source": [
        "<a href=\"https://colab.research.google.com/github/rishabhshah13/Adversarial_Patch_XAI590/blob/main/Assignment%208/Assignment%208.ipynb\" target=\"_parent\"><img src=\"https://colab.research.google.com/assets/colab-badge.svg\" alt=\"Open In Colab\"/></a>"
      ]
    },
    {
      "cell_type": "markdown",
      "source": [
        "# Assignment 8"
      ],
      "metadata": {
        "id": "882ZvncXrNf-"
      }
    },
    {
      "cell_type": "code",
      "execution_count": null,
      "metadata": {
        "id": "svj_w0zGq8rZ"
      },
      "outputs": [],
      "source": [
        "# Import necessary libraries\n",
        "import torch\n",
        "from transformers import GPT2Tokenizer, GPT2LMHeadModel\n",
        "import matplotlib.pyplot as plt\n",
        "import numpy as np\n",
        "\n",
        "# Load pre-trained GPT-2 model and tokenizer\n",
        "model_name = \"gpt2\"\n",
        "tokenizer = GPT2Tokenizer.from_pretrained(model_name)\n",
        "model = GPT2LMHeadModel.from_pretrained(model_name)\n",
        "model.eval()\n",
        "\n",
        "# Function to get token-level saliency scores\n",
        "def get_saliency_scores(prompt):\n",
        "    inputs = tokenizer(prompt, return_tensors=\"pt\")\n",
        "    input_ids = inputs[\"input_ids\"]\n",
        "\n",
        "    # Forward pass through the model\n",
        "    outputs = model(input_ids)\n",
        "    logits = outputs.logits\n",
        "\n",
        "    # Get the predicted token (we'll focus on the last token)\n",
        "    predicted_token_id = torch.argmax(logits[:, -1, :], dim=-1)\n",
        "\n",
        "    # Backpropagate to get gradients w.r.t. input tokens\n",
        "    loss = logits[:, -1, predicted_token_id].sum()\n",
        "    loss.backward()\n",
        "\n",
        "    # Get gradients for input embeddings\n",
        "    gradients = model.transformer.wte.weight.grad[input_ids].squeeze(0)\n",
        "\n",
        "    # Calculate saliency scores as L2 norm of gradients for each token\n",
        "    saliency_scores = torch.norm(gradients, dim=-1).detach().numpy()\n",
        "\n",
        "    return saliency_scores, tokenizer.convert_ids_to_tokens(input_ids.squeeze().tolist())\n",
        "\n",
        "# Function to plot saliency scores\n",
        "def plot_saliency(prompt):\n",
        "    saliency_scores, tokens = get_saliency_scores(prompt)\n",
        "\n",
        "    plt.figure(figsize=(10, 5))\n",
        "    plt.bar(range(len(tokens)), saliency_scores)\n",
        "    plt.xticks(range(len(tokens)), tokens, rotation=90)\n",
        "    plt.title(\"Saliency Scores for Prompt Tokens\")\n",
        "    plt.xlabel(\"Tokens\")\n",
        "    plt.ylabel(\"Saliency Score\")\n",
        "    plt.show()\n",
        "\n",
        "# Example prompt\n",
        "prompt = \"The quick brown fox jumps over the lazy dog.\"\n",
        "\n",
        "# Plot saliency scores for the example prompt\n",
        "plot_saliency(prompt)"
      ]
    },
    {
      "cell_type": "code",
      "source": [],
      "metadata": {
        "id": "3-pz7-GbrJUq"
      },
      "execution_count": null,
      "outputs": []
    }
  ]
}