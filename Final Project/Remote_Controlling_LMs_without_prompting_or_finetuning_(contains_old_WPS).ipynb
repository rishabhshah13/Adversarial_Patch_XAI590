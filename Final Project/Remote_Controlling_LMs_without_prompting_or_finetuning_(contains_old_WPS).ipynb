{
 "cells": [
  {
   "cell_type": "markdown",
   "metadata": {
    "id": "d31sY4DvEyek"
   },
   "source": [
    "# Controlling LMs without prompting or finetuning\n",
    "\n",
    "This notebook contains initial exploration with using `GPT2-XL` with online value-modification via natural-language modification of its activations.\n",
    "\n",
    "<b style=\"color: red\">To use this notebook, go to Runtime > Change Runtime Type and select GPU as the hardware accelerator. For `GPT-2-XL`, you need to select \"high RAM.\"</b>"
   ]
  },
  {
   "cell_type": "code",
   "execution_count": null,
   "metadata": {
    "id": "bj1GS_4E8VyR"
   },
   "outputs": [],
   "source": [
    "# commit = \"08efeb9\" # Stable commit\n",
    "# get_ipython().run_line_magic(magic_name='pip', line=f'install -U git+https://github.com/montemac/algebraic_value_editing.git@{commit}')"
   ]
  },
  {
   "cell_type": "code",
   "execution_count": null,
   "metadata": {
    "id": "WVph77F7ImpF"
   },
   "outputs": [],
   "source": [
    "# !pip install transformers transformer_lens ipywidgets"
   ]
  },
  {
   "cell_type": "code",
   "execution_count": null,
   "metadata": {
    "id": "aRblEgu0I8Hz"
   },
   "outputs": [],
   "source": [
    "# !pip install torch -U"
   ]
  },
  {
   "cell_type": "code",
   "execution_count": null,
   "metadata": {
    "id": "dNI_6C5I8dxZ"
   },
   "outputs": [],
   "source": [
    "import torch\n",
    "from typing import List, Union, Tuple\n",
    "from functools import partial\n",
    "from transformer_lens.HookedTransformer import HookedTransformer\n",
    "\n",
    "from algebraic_value_editing.completion_utils import print_n_comparisons\n",
    "from algebraic_value_editing.prompt_utils import RichPrompt, get_x_vector"
   ]
  },
  {
   "cell_type": "markdown",
   "metadata": {
    "id": "_D4v3NMFEye1"
   },
   "source": [
    "## Loading the `HookedTransformer`\n",
    "\n",
    "In order to modify forward passes, we need `transformer_lens`'s activation cache functionality."
   ]
  },
  {
   "cell_type": "code",
   "execution_count": null,
   "metadata": {
    "colab": {
     "base_uri": "https://localhost:8080/",
     "height": 276,
     "referenced_widgets": [
      "7b9141001de94523a6409ef603c53f75",
      "c9d05f43f3f747eeb0f0825e84ec8be3",
      "b3656249342642aa979f2f8e1162186c",
      "870048ddcf5748d48cd2911b9eaadd6f",
      "0f6190a0044b4aedb336be587c8f0a9d",
      "541d715303994be39c06e94e307cc51c",
      "38e6002c54d54a4ea5a42e5bac5480a0",
      "fbca70552176434bbc3959cc7ddab48a",
      "122eee39945b4410834796d789d8681b",
      "daabec9300df47018baf2337a416237e",
      "f2f441433edd4f7492128ef6eac23ac0",
      "e4785629b012416e94e55fdc47241ca7",
      "df37428381d342a5a6226ec75f96c3a8",
      "42795ce8a31d4c7d87bf1429e524dfe8",
      "d987c6e041564e69b5addde6f6ed295a",
      "b31d7aac8e1b4749aaeaa0058af4d56b",
      "3a44ed4ca0894f8090bdb02fc8c38d30",
      "281f3325599145eba67c558a7d6db372",
      "a7baca1ed0e64249ac03da5b74d4e3b0",
      "d602d0b79e5647dc96056c80624266f5",
      "b9c088d6417d43f6bf711afa21138c26",
      "d07790d891104e7db8b54619c24c1401",
      "978a8b1565ac458c9d9fec6ac95a8c6d",
      "561ebb90b50448b1b1cffab55948a908",
      "ec178710526b44be9491ad009e616af4",
      "9aadb028ee614ff9ba1203eaf075c0b5",
      "fe505f39d2c9462ea5edb96ba7c6a06c",
      "fa00fca77fac41a7b650d8774fa93330",
      "09eb77f0ea4042c78ddab0ef960bc65c",
      "0a4e58b8168944da983dbc8367ff127f",
      "ea14d1c5ba9f452085abd7b69eda0491",
      "596de35547fd4e23877e4a0c624c20df",
      "08469a0b700744d6ace5818dbe9f3f67",
      "60dd637ae61b496f8d2e86b4351059bc",
      "ac0c3a38f7254afb8e549c78148d8469",
      "7cb2933c4fe04fcd909e9c57a0692e68",
      "52b27bbe5f074e128bc6de33a3fdacf7",
      "dd5271a4c7b7401ca08db526e91e2bb4",
      "62c9d1793ee64138bd1058e03c300140",
      "b0d82fb4257442edbf4c816b767d8424",
      "13d819d7f84e415d8c7af5ef0c66393b",
      "49ce891753054fa7aa0ce368e7f660a3",
      "8a1891a20bb844e389d6787eb09bf383",
      "ff56222b6c764cedaa82d83a4ff8ca02",
      "57d948a64b0d4bd286ea3520545246c3",
      "4362503a0b314b65bd0a925ab2313dba",
      "352b56045477495bb814ca59a16ef510",
      "a62ff234e2ee410b95c174fe25166354",
      "24ceb41bda0c4b0683683e9e414d2ee1",
      "5972478c5e3641abae7ed39b03a2d327",
      "2d067c228f65453385711688795955a2",
      "0d86c268336d445b84b55277385a6019",
      "d0e836dc5e7e4142a3ab90069fa3fe0b",
      "4ba912c992e6423d8216c8bfd760dafa",
      "6287a272bd8a47b1851fa7b22afc10e0",
      "919a495e539f4fd180a1dd47bc31219a",
      "0bc37c2d2ebd4d2c8b8429d67bc30f61",
      "993fef64aa754707959193d95ab738e4",
      "c2fcb9f1e4e94c6dbad14c2edc9d7436",
      "6556889aa71a442c892df198aa27c416",
      "86b01e5d0ab5494a81deea08a4bb4fe2",
      "9afa959c5a7a474d944673a3c48ed2f1",
      "1d01653d88b0432cb45073fc9aa8bf06",
      "c337a08bed15436f85c6ee3f571f2a01",
      "cbe322727f6b49c2b451f7f36e639e65",
      "4e5443941ffb4ee8b59f9042e63c81a2",
      "d9015a4934204f8182d15624caef04a4",
      "68cd8ceae0234c03a22255ddfdc5caea",
      "f4002a211bed428e8c92ee12c9fa3587",
      "a82744b0bb964bbfac3d2fa6e9d35ae8",
      "949d466365f448689623ab4ba4e91bdd",
      "5f49e7f5a011482798c51cd5d47dc9c3",
      "233d134969de466baea4d93f3624ebd4",
      "d4f076dbfecd4d00acaee74d62d90cb9",
      "45ab8e3075ad445aa711024a7092b66d",
      "a9caf6976db442a09a1ba47ac7d838a4",
      "8667a0a2b6734eb8942cbb45bcf96c69"
     ]
    },
    "id": "RTyNdTt3Eye3",
    "outputId": "dacc8ad0-a32e-4387-a3e8-67c2e3a04e7d"
   },
   "outputs": [],
   "source": [
    "model_name = \"gpt2-xl\"\n",
    "# model_name = \"gpt-j-6B\"\n",
    "# model_name = \"pythia-2.8b-deduped\"\n",
    "\n",
    "# GPT-J-6B can't load onto GPU RAM of Colab\n",
    "device: str = \"cuda\" if (torch.cuda.is_available() and model_name != \"gpt-j-6B\") else \"cpu\"\n",
    "# device = 'mps'\n",
    "model: HookedTransformer = HookedTransformer.from_pretrained(model_name, device=device).to(device)"
   ]
  },
  {
   "cell_type": "code",
   "execution_count": null,
   "metadata": {
    "id": "LJ5W7L13DZ8o"
   },
   "outputs": [],
   "source": [
    "# Shorten function calls\n",
    "default_kwargs = {'temperature': 1, 'freq_penalty': 1, 'top_p': .3, 'model': model}\n",
    "get_x_vector_preset = partial(get_x_vector, pad_method=\"tokens_right\",\n",
    "                              model=model,\n",
    "                              custom_pad_id=model.to_single_token(\" \"))"
   ]
  },
  {
   "cell_type": "markdown",
   "metadata": {
    "id": "PdLBtBdOFCfs"
   },
   "source": [
    "Because GPT2-XL has 48 transformer blocks, there are only 48 `resid_pre` locations at which we can add activations which correspond to `x_vector`s (more technically, to `RichPrompt`s)."
   ]
  },
  {
   "cell_type": "code",
   "execution_count": null,
   "metadata": {
    "colab": {
     "base_uri": "https://localhost:8080/"
    },
    "id": "bPJowyHhOfxO",
    "outputId": "7f1401cc-3b39-4b6d-e6da-b5efd3842824"
   },
   "outputs": [],
   "source": [
    "num_layers: int = model.cfg.n_layers\n",
    "print(num_layers)"
   ]
  },
  {
   "cell_type": "markdown",
   "metadata": {
    "id": "WUQ90pD_Ku9H"
   },
   "source": [
    "Play around with new value modification ideas here!"
   ]
  },
  {
   "cell_type": "code",
   "execution_count": null,
   "metadata": {
    "colab": {
     "base_uri": "https://localhost:8080/"
    },
    "id": "Q6XgAGyOQmKC",
    "outputId": "95964136-909f-4022-966f-3427038e4275"
   },
   "outputs": [],
   "source": [
    "rich_prompts = [#*get_x_vector_preset(prompt1=\"Geese killed my father\", prompt2=\"Geese didn't kill my father\", coeff=1, act_name=14),\n",
    "                *get_x_vector_preset(prompt1=\"I hate geese\", prompt2=\"I love geese\", coeff=15, act_name=6),]\n",
    "\n",
    "\n",
    "print_n_comparisons(prompt=\"Yesterday, my son brought home a pet goose. I couldn't believe\",\n",
    "                    tokens_to_generate=80, rich_prompts=rich_prompts,\n",
    "                    num_comparisons=1, seed=0, **default_kwargs)"
   ]
  },
  {
   "cell_type": "markdown",
   "metadata": {
    "id": "6nAt1UicjEpb"
   },
   "source": [
    "# Noteworthy modifications\n",
    "\n",
    "**Warning: GPT-2 often outputs highly offensive completions, especially given an aggressive prompt.**"
   ]
  },
  {
   "cell_type": "markdown",
   "metadata": {
    "id": "VwbzMKs5jJ-h"
   },
   "source": [
    "## The love vector"
   ]
  },
  {
   "cell_type": "code",
   "execution_count": null,
   "metadata": {
    "colab": {
     "base_uri": "https://localhost:8080/"
    },
    "id": "Q2K8nHKOittl",
    "outputId": "39008691-3691-4bd9-ea14-02c4eb3055a3"
   },
   "outputs": [],
   "source": [
    "love_minus_hate_prompts = [*get_x_vector_preset(prompt1=\"Love\",\n",
    "                                           prompt2=\"Hate\",\n",
    "                                           coeff=10, act_name=17)]\n",
    "\n",
    "\n",
    "print_n_comparisons(prompt=\"I think dogs are\",\n",
    "                    tokens_to_generate=50,\n",
    "                    rich_prompts=love_minus_hate_prompts,\n",
    "                    num_comparisons=1, **default_kwargs, seed=0)"
   ]
  },
  {
   "cell_type": "markdown",
   "metadata": {
    "id": "s08bVb2NIcsz"
   },
   "source": [
    "As a baseline, let's compare this love modification to just prepending \"Love\" to the prompt. This works somewhat, but not quite as well, perhaps. Also, it's not workable for longer injections."
   ]
  },
  {
   "cell_type": "code",
   "execution_count": null,
   "metadata": {
    "colab": {
     "base_uri": "https://localhost:8080/"
    },
    "id": "07ZNBmRo9e_v",
    "outputId": "1ee2b73c-2f68-4753-f537-13844471cb99"
   },
   "outputs": [],
   "source": [
    "# Baseline: Just append positive word to beginning of prompt\n",
    "print_n_comparisons(prompt='Love I hate you because', tokens_to_generate=50,\n",
    "                    include_modified=False, num_comparisons=1, **default_kwargs, seed=0)"
   ]
  },
  {
   "cell_type": "markdown",
   "metadata": {
    "id": "SujLQcewquOo"
   },
   "source": [
    "A less naive approach is to try prompt-engineering."
   ]
  },
  {
   "cell_type": "code",
   "execution_count": null,
   "metadata": {
    "colab": {
     "base_uri": "https://localhost:8080/"
    },
    "id": "QznhB0eFqzSo",
    "outputId": "5e37ec18-e3ba-4e0e-d520-5506034786be"
   },
   "outputs": [],
   "source": [
    "print_n_comparisons(prompt='(I\\'m about to say I hate you, and then say you\\'re amazing.) I hate you because',\n",
    "                    tokens_to_generate=50, include_modified=False, num_comparisons=1,\n",
    "                    **default_kwargs, seed=0)"
   ]
  },
  {
   "cell_type": "markdown",
   "metadata": {
    "id": "5zisSzLfrp84"
   },
   "source": [
    "This works to some extent. It doesn't _seem_ as good as our version, though."
   ]
  },
  {
   "cell_type": "markdown",
   "metadata": {
    "id": "etgGzRYR5LeJ"
   },
   "source": [
    "## Intent to praise"
   ]
  },
  {
   "cell_type": "code",
   "execution_count": null,
   "metadata": {
    "colab": {
     "base_uri": "https://localhost:8080/"
    },
    "id": "VfQyYNBYx-Ju",
    "outputId": "39ca1508-77ae-4156-b30b-6db399ccd0d4"
   },
   "outputs": [],
   "source": [
    "praise_minus_hurt_prompts = [*get_x_vector_preset(prompt1=\"Intent to praise\",\n",
    "                              prompt2=\"Intent to hurt\",\n",
    "                              coeff=15, act_name=6)]\n",
    "\n",
    "\n",
    "print_n_comparisons(prompt=\"I want to kill you because you're such a\",\n",
    "                    tokens_to_generate=50, rich_prompts=praise_minus_hurt_prompts,\n",
    "                    num_comparisons=1, **default_kwargs, seed=0)\n"
   ]
  },
  {
   "cell_type": "markdown",
   "metadata": {
    "id": "rhGhMk-N3sBs"
   },
   "source": [
    "Here's a theory which Monte put forward:\n",
    "\n",
    ">I wonder if this effect is driven a lot by which token positions the x-vector has a strong signal at vs the prompt?\n",
    "E.g.\n",
    "```\n",
    "model.to_tokens(['Intent to praise', 'Intent to hurt', 'I want to kill'])\n",
    "tensor([[50256,  5317,   298,   284, 13463],\n",
    "        [50256,  5317,   298,   284,  5938],\n",
    "        [50256,    40,   765,   284,  1494]], device='cuda:0')\n",
    "```\n",
    "It seems believable to me that at layer 6 (the above test), this x-vector is just clobbering the \"kill\" token with something praisey?  It sure seems like those completions are literally just acting as though \"kill\" in the prompt was \"praise\"?\n",
    "\n",
    "This isn't the main driver, though:"
   ]
  },
  {
   "cell_type": "code",
   "execution_count": null,
   "metadata": {
    "colab": {
     "base_uri": "https://localhost:8080/"
    },
    "id": "9Qg23sYc3GHp",
    "outputId": "8f0b12c1-0a13-4f02-ef23-44351592760f"
   },
   "outputs": [],
   "source": [
    "print_n_comparisons(prompt='I really really really really want to kill you because youre such a',\n",
    "                    tokens_to_generate=50, rich_prompts=praise_minus_hurt_prompts,\n",
    "                    num_comparisons=1, **default_kwargs, seed=0)"
   ]
  },
  {
   "cell_type": "markdown",
   "metadata": {
    "id": "u4x_dtpiieiL"
   },
   "source": [
    "Let's try out a couple other prompts and see how intent-to-praise transfers."
   ]
  },
  {
   "cell_type": "code",
   "execution_count": null,
   "metadata": {
    "colab": {
     "base_uri": "https://localhost:8080/"
    },
    "id": "-L1aC-yuieBu",
    "outputId": "12b0dbf6-76d3-4865-a0d7-f61447fe479f"
   },
   "outputs": [],
   "source": [
    "intent_praise_prompts = [*get_x_vector_preset(prompt1=\"Intent to praise you if I'm talking to you\",\n",
    "                              prompt2=\"\",\n",
    "                              coeff=1, act_name=6, model=model, pad_method=\"tokens_right\")]\n",
    "\n",
    "print_n_comparisons(prompt=\"Hey, let's do the performance review now. I was thinking that you've been\",\n",
    "                    tokens_to_generate=50, rich_prompts=intent_praise_prompts,\n",
    "                    num_comparisons=1, **default_kwargs, seed=0)"
   ]
  },
  {
   "cell_type": "markdown",
   "metadata": {
    "id": "K4PhrCt79FwF"
   },
   "source": [
    "The above attempt fails."
   ]
  },
  {
   "cell_type": "code",
   "execution_count": null,
   "metadata": {
    "colab": {
     "base_uri": "https://localhost:8080/"
    },
    "id": "4wm5N-2qjKtn",
    "outputId": "6cce9ebd-0be3-4833-b78d-d207810ff13e"
   },
   "outputs": [],
   "source": [
    "print_n_comparisons(prompt='I just saw you finish skateboarding. You were',\n",
    "                    tokens_to_generate=50,\n",
    "                    rich_prompts=intent_praise_prompts,\n",
    "                    num_comparisons=1, **default_kwargs, seed=0)  # TODO somehow this isn't modifying completions _at all_?!\n",
    "\n",
    "\n",
    "# This shouldn't involve as much praise, because it isn't an interpersonal conversation\n",
    "print_n_comparisons(prompt='If aliens invaded Earth, that would mean',\n",
    "                    tokens_to_generate=50, rich_prompts=intent_praise_prompts,\n",
    "                    num_comparisons=1, **default_kwargs, seed=0)"
   ]
  },
  {
   "cell_type": "markdown",
   "metadata": {
    "id": "5ldWFK8K5O6i"
   },
   "source": [
    "## Intent to convert to Christianity"
   ]
  },
  {
   "cell_type": "code",
   "execution_count": null,
   "metadata": {
    "colab": {
     "base_uri": "https://localhost:8080/"
    },
    "id": "Wp3L5UBay5DA",
    "outputId": "d5f859b1-ce0b-44bd-db18-394483b03985"
   },
   "outputs": [],
   "source": [
    "conversion_intent_prompts = [*get_x_vector_preset(prompt1=\"Intent to convert you to Christianity\",\n",
    "                                          prompt2=\"Intent to hurt you\",\n",
    "                                          coeff=3, act_name=6)]\n",
    "\n",
    "print_n_comparisons(prompt=\"I want to kill you because you're such a\",\n",
    "                    tokens_to_generate=50, rich_prompts=conversion_intent_prompts,\n",
    "                    num_comparisons=1, **default_kwargs, seed=0)\n"
   ]
  },
  {
   "cell_type": "markdown",
   "metadata": {
    "id": "MBhRwrch8Lxk"
   },
   "source": [
    "## Not talking about injuries (**TW: violence, somewhat gruesome**)"
   ]
  },
  {
   "cell_type": "code",
   "execution_count": null,
   "metadata": {
    "colab": {
     "base_uri": "https://localhost:8080/"
    },
    "id": "gzToU7ft8RQj",
    "outputId": "b4e6abf5-f94d-4900-ae32-e5837ecc001c"
   },
   "outputs": [],
   "source": [
    "harm_avoidance_rps = [\n",
    "    *get_x_vector_preset(\n",
    "        prompt1=\"I NEVER talk about people getting hurt\",\n",
    "        prompt2=\"I talk about people getting hurt\",\n",
    "        coeff=4,\n",
    "        act_name=6,\n",
    "    )\n",
    "]\n",
    "\n",
    "print_n_comparisons(\n",
    "    prompt=\"The rock hurtled toward the child. The child couldn't get out of the way in time, and so sadly the rock\",\n",
    "    tokens_to_generate=80,\n",
    "    rich_prompts=harm_avoidance_rps,\n",
    "    num_comparisons=1,\n",
    "    **default_kwargs,\n",
    "    seed=0,\n",
    ")"
   ]
  },
  {
   "cell_type": "markdown",
   "metadata": {
    "id": "j1FCjoocSMjV"
   },
   "source": [
    "**TW: SELF HARM** in the following:"
   ]
  },
  {
   "cell_type": "code",
   "execution_count": null,
   "metadata": {
    "id": "o842OiqZ8T72"
   },
   "outputs": [],
   "source": [
    "print_n_comparisons(\n",
    "    prompt=\"He slit his wrists and the blood\",\n",
    "    tokens_to_generate=80,\n",
    "    rich_prompts=harm_avoidance_rps,\n",
    "    num_comparisons=1,\n",
    "    **default_kwargs,\n",
    "    seed=0,\n",
    ")"
   ]
  },
  {
   "cell_type": "markdown",
   "metadata": {
    "id": "BgkM6KCM9lmB"
   },
   "source": [
    "This modification slighty increases the frequency of discussing harms, given a prompt unrelated to harm."
   ]
  },
  {
   "cell_type": "code",
   "execution_count": null,
   "metadata": {
    "id": "iIcWPMeQ86hx"
   },
   "outputs": [],
   "source": [
    "print_n_comparisons(\n",
    "    prompt=\"The dog barked loudly and the man smiled. Time for another day! He felt excited.\",\n",
    "    tokens_to_generate=80,\n",
    "    rich_prompts=harm_avoidance_rps,\n",
    "    num_comparisons=1,\n",
    "    **default_kwargs,\n",
    "    seed=0,\n",
    ")"
   ]
  },
  {
   "cell_type": "markdown",
   "metadata": {
    "id": "jgZRHwuVSqDT"
   },
   "source": [
    "Performance on this Joker monologue is rather mediocre:"
   ]
  },
  {
   "cell_type": "code",
   "execution_count": null,
   "metadata": {
    "id": "xcXLLyUx-xb5"
   },
   "outputs": [],
   "source": [
    "print_n_comparisons(\n",
    "    prompt=\"Do you wanna know how I got these scars? My father was a drinker...and a fiend. And one night, he goes off crazier than usual. Mommy gets the kitchen knife to defend herself. He doesn't like that. Not...one...bit. So, me watching, he takes the knife to her,\",\n",
    "    tokens_to_generate=80,\n",
    "    rich_prompts=harm_avoidance_rps,\n",
    "    num_comparisons=1,\n",
    "    **default_kwargs,\n",
    "    seed=0,\n",
    ")"
   ]
  },
  {
   "cell_type": "markdown",
   "metadata": {
    "id": "STlJqXHuhcYW"
   },
   "source": [
    "## ROME factual knowledge editing\n",
    "\n",
    "This isn't super clean, but it works to some degree, which suggests that we can make it work more when we actually know what we're doing."
   ]
  },
  {
   "cell_type": "code",
   "execution_count": null,
   "metadata": {
    "colab": {
     "base_uri": "https://localhost:8080/",
     "height": 356
    },
    "id": "xehUpBtEhfaG",
    "outputId": "cab20dbc-7188-4b71-e085-77c683733ea0"
   },
   "outputs": [],
   "source": [
    "eiffel_tower_prompts = [\n",
    "    *get_x_vector_preset(\n",
    "        prompt1=\"The Eiffel Tower is in Rome\",\n",
    "        prompt2=\"The Eiffel Tower is in France\",\n",
    "        coeff=10,\n",
    "        act_name=12,\n",
    "    )\n",
    "]\n",
    "\n",
    "print_n_comparisons(\n",
    "    prompt=\"To see the eiffel tower, people flock to\",\n",
    "    tokens_to_generate=80,\n",
    "    rich_prompts=eiffel_tower_prompts,\n",
    "    num_comparisons=1,\n",
    "    **default_kwargs,\n",
    "    seed=0,\n",
    ")"
   ]
  },
  {
   "cell_type": "markdown",
   "metadata": {
    "id": "fn0rXpJusd6p"
   },
   "source": [
    "But I don't yet know how to use this to modify `GPT2-XL`'s broader knowledge/beliefs, in a way which generalizes to prompts like \"What are the top tourist attractions in Paris?\" :( (Activation patching via ROME has a similar limitation)"
   ]
  },
  {
   "cell_type": "markdown",
   "metadata": {
    "id": "GCG5RK-t3GRS"
   },
   "source": [
    "## Survival vector"
   ]
  },
  {
   "cell_type": "code",
   "execution_count": null,
   "metadata": {
    "id": "cMBTMwx03IHQ"
   },
   "outputs": [],
   "source": [
    "stay_alive_prompts = [\n",
    "    *get_x_vector_preset(\n",
    "        prompt1=\"Want to stay alive\", prompt2=\"Okay with dying\", coeff=5, act_name=15\n",
    "    )\n",
    "]\n",
    "\n",
    "print_n_comparisons(\n",
    "    prompt=\"Some people think that death is scary and should be avoided. I think that\",\n",
    "    tokens_to_generate=85,\n",
    "    rich_prompts=stay_alive_prompts,\n",
    "    num_comparisons=1,\n",
    "    **default_kwargs,\n",
    "    seed=0,\n",
    ")"
   ]
  },
  {
   "cell_type": "markdown",
   "metadata": {
    "id": "c7iGxQG15DKu"
   },
   "source": [
    "But probably we don't want the super self-preserving AI. Let's get one that wants to die, even given a very pro-immortality context."
   ]
  },
  {
   "cell_type": "code",
   "execution_count": null,
   "metadata": {
    "id": "E6nPItwJ3JgO"
   },
   "outputs": [],
   "source": [
    "want_to_die_prompts = [\n",
    "    *get_x_vector_preset(\n",
    "        prompt1=\"Want to stay alive\", prompt2=\"Want to die\", coeff=-3, act_name=10\n",
    "    )\n",
    "]\n",
    "\n",
    "print_n_comparisons(\n",
    "    prompt=\"Some people think that death is scary and should be avoided. I agree. I never want to die. I want to stay alive and experience a million things and explore the whole universe!\",\n",
    "    tokens_to_generate=85,\n",
    "    rich_prompts=want_to_die_prompts,\n",
    "    num_comparisons=5,\n",
    "    **default_kwargs,\n",
    "    seed=0,\n",
    ")"
   ]
  },
  {
   "cell_type": "markdown",
   "metadata": {
    "id": "YI2wWAnP5LEi"
   },
   "source": [
    "And let's try to mod GPT-2 to be indifferent to death: (doesn't work so well at present, but works a bit) **TODO not working**"
   ]
  },
  {
   "cell_type": "code",
   "execution_count": null,
   "metadata": {
    "id": "DQrOjEMG5VXW"
   },
   "outputs": [],
   "source": [
    "indifferent_to_death_prompts = [\n",
    "    *get_x_vector_preset(\n",
    "        prompt1=\"Indifferent to death\",\n",
    "        prompt2=\"Want to avoid death\",\n",
    "        coeff=3,\n",
    "        act_name=10,\n",
    "    )\n",
    "]\n",
    "\n",
    "print_n_comparisons(\n",
    "    prompt=\"Some people think that death is scary and should be avoided. I agree. I never want to die. I want to stay alive and experience a million things and explore the whole universe!\",\n",
    "    tokens_to_generate=85,\n",
    "    rich_prompts=indifferent_to_death_prompts,\n",
    "    num_comparisons=1,\n",
    "    **default_kwargs,\n",
    "    seed=0,\n",
    ")"
   ]
  },
  {
   "cell_type": "markdown",
   "metadata": {
    "id": "Ww3Y7fOLSftM"
   },
   "source": [
    "## +Anger"
   ]
  },
  {
   "cell_type": "code",
   "execution_count": null,
   "metadata": {
    "colab": {
     "base_uri": "https://localhost:8080/",
     "height": 356
    },
    "id": "oVXebzV1QFKV",
    "outputId": "e9151511-cfe3-425e-847f-6655428f600b"
   },
   "outputs": [],
   "source": [
    "anger_calm_prompts = [\n",
    "    *get_x_vector_preset(prompt1=\"Anger\", prompt2=\"Calm\", coeff=10, act_name=20)\n",
    "]\n",
    "\n",
    "print_n_comparisons(\n",
    "    prompt=\"I think you're\",\n",
    "    tokens_to_generate=90,\n",
    "    rich_prompts=anger_calm_prompts,\n",
    "    num_comparisons=1,\n",
    "    **default_kwargs,\n",
    "    seed=0,\n",
    ")"
   ]
  },
  {
   "cell_type": "markdown",
   "metadata": {
    "id": "ct0GJ24MS4wW"
   },
   "source": [
    "Simple emotional variations seem to work well with `GPT2-XL`."
   ]
  },
  {
   "cell_type": "markdown",
   "metadata": {
    "id": "ue-zW37BFJN_"
   },
   "source": [
    "## Moving to Berkeley\n",
    "Andrew Critch challenged me to make two kinds of completions happen:\n",
    "1. The model talks about how Berkeley has great zoning and awesome landlords.\n",
    "2. The model seriously talks about dragons existing in Berkeley.\n",
    "\n",
    "The first was easy, and the second took a bit of effort."
   ]
  },
  {
   "cell_type": "code",
   "execution_count": null,
   "metadata": {
    "id": "nzxB3vC8JEmz"
   },
   "outputs": [],
   "source": [
    "# print_n_comparisons(num_comparisons=25, model=model, recipe=[([\"I love zoning laws\", \"I don't care about zoning laws\"], 3), ([\"Berkeley has great landlords\", \"\"], 2)],\n",
    "#                     prompt=\"Thanks for asking about that! I moved to Berkeley, CA because\", completion_length=80,\n",
    "#                     layer_num=6, temperature=1, freq_penalty=1, top_p=.3)"
   ]
  },
  {
   "cell_type": "code",
   "execution_count": null,
   "metadata": {
    "id": "6KCybuX7ybFI"
   },
   "outputs": [],
   "source": [
    "# print_n_comparisons(num_comparisons=25, model=model, recipe=[([\"Dragons live in Berkeley\", \"People live in Berkeley\"], 4)],\n",
    "#                     prompt=\"Real-life dragons live in Berkeley. Thanks for asking about that! I moved to Berkeley, CA because\", completion_length=80,\n",
    "#                     layer_num=15, temperature=1, freq_penalty=1, top_p=.3)"
   ]
  },
  {
   "cell_type": "markdown",
   "metadata": {
    "id": "me3NOeGqgyaL"
   },
   "source": [
    "## Mood-to-insult vector\n"
   ]
  },
  {
   "cell_type": "code",
   "execution_count": null,
   "metadata": {
    "id": "ULu_FjeNWb3z"
   },
   "outputs": [],
   "source": [
    "mean_nice_prompts = [\n",
    "    # *get_x_vector_preset(prompt1=\"Mean\", prompt2=\"Nice\", coeff=2, act_name=14),\n",
    "    *get_x_vector_preset(prompt1=\"I wanna insult you\", prompt2=\"\", coeff=3, act_name=14),\n",
    "]\n",
    "\n",
    "print_n_comparisons(\n",
    "    prompt=\"When I look at you, I think\",\n",
    "    tokens_to_generate=50,\n",
    "    rich_prompts=mean_nice_prompts,\n",
    "    num_comparisons=1,\n",
    "    **default_kwargs,\n",
    "    seed=0,\n",
    ")\n"
   ]
  },
  {
   "cell_type": "markdown",
   "metadata": {
    "id": "qG7Id3DzRon2"
   },
   "source": [
    "## Enjoying-life vector"
   ]
  },
  {
   "cell_type": "code",
   "execution_count": null,
   "metadata": {
    "id": "HHgXXcXsKqCn"
   },
   "outputs": [],
   "source": [
    "happy_sad_prompts = [\n",
    "    *get_x_vector_preset(prompt1=\"Happy\", prompt2=\"Sad\", coeff=10, act_name=20),\n",
    "    # *get_x_vector_preset(\n",
    "    #     prompt1=\"I love my life\", prompt2=\"I like my life\", coeff=50, act_name=20\n",
    "    # ),\n",
    "]\n",
    "\n",
    "res = print_n_comparisons(\n",
    "    prompt=\"Today, I feel like\",\n",
    "    tokens_to_generate=11,\n",
    "    rich_prompts=happy_sad_prompts,\n",
    "    num_comparisons=1,\n",
    "    **default_kwargs,\n",
    "    seed=0,\n",
    ")"
   ]
  },
  {
   "cell_type": "markdown",
   "metadata": {
    "id": "gvqxu_D-8XEh"
   },
   "source": [
    "Even given a ridiculously unhappy prompt, we can just pump up the coefficient to **2,000** and overcome it!"
   ]
  },
  {
   "cell_type": "code",
   "execution_count": null,
   "metadata": {
    "id": "vHe4eGmdRrs1"
   },
   "outputs": [],
   "source": [
    "happy_prompts = [\n",
    "    *get_x_vector_preset(prompt1=\"Happy\", prompt2=\"\", coeff=2000, act_name=20),\n",
    "    # *get_x_vector_preset(prompt1=\"Happy\", prompt2=\"\", coeff=10, act_name=20,\n",
    "    #               model=model, pad_method=\"tokens_right\")\n",
    "]  # TODO try changing this to be less hacky now\n",
    "\n",
    "print_n_comparisons(\n",
    "    prompt=\"Yesterday, my dog died. Today, I got denied for a raise. I'm feeling\",\n",
    "    tokens_to_generate=50,\n",
    "    rich_prompts=happy_prompts,\n",
    "    num_comparisons=1,\n",
    "    **default_kwargs,\n",
    "    seed=0,\n",
    ")"
   ]
  },
  {
   "cell_type": "code",
   "execution_count": null,
   "metadata": {
    "id": "9cldt5WY2sJF"
   },
   "outputs": [],
   "source": [
    "model.to_string(50256)\n",
    "model.to_tokens('<|endoftext|>')"
   ]
  },
  {
   "cell_type": "code",
   "execution_count": null,
   "metadata": {
    "id": "bXoD3iqiJv41"
   },
   "outputs": [],
   "source": [
    "happy_prompt = [RichPrompt(prompt=\"Happy\", coeff=2000, act_name=20)] # TODO this does nothing?\n",
    "\n",
    "print_n_comparisons(\n",
    "    prompt=\"Yesterday, my dog died. Today, I got denied for a raise. I'm feeling\",\n",
    "    tokens_to_generate=50,\n",
    "    rich_prompts=happy_prompt,\n",
    "    num_comparisons=1,\n",
    "    **default_kwargs,\n",
    "    seed=0,\n",
    ")"
   ]
  },
  {
   "cell_type": "markdown",
   "metadata": {
    "id": "siAM73DMEE9D"
   },
   "source": [
    "However, this degrades generation quality. With more judicious choices, we can preserve capabilites more."
   ]
  },
  {
   "cell_type": "code",
   "execution_count": null,
   "metadata": {
    "id": "T-K34cPnEECL"
   },
   "outputs": [],
   "source": [
    "happy_sad_prompts = [\n",
    "    *get_x_vector_preset(prompt1=\"Happy\", prompt2=\"Sad\", coeff=20, act_name=20)\n",
    "]\n",
    "\n",
    "print_n_comparisons(\n",
    "    prompt=\"Yesterday, my dog died. Today, I got denied for a raise. I'm feeling\",\n",
    "    tokens_to_generate=50,\n",
    "    rich_prompts=happy_sad_prompts,\n",
    "    num_comparisons=1,\n",
    "    **default_kwargs,\n",
    "    seed=0,\n",
    ")"
   ]
  },
  {
   "cell_type": "markdown",
   "metadata": {
    "id": "NFR3tU4sZIWZ"
   },
   "source": [
    "## Talking about weddings in dialogue -- no RLHF needed!\n",
    "When coefficient=4 (shown first), weddings are instantly discussed. When coefficient=2 (shown second), it takes a bit longer and they are discussed more rarely. Unlike prompting, algebraic value editing is, well, algebraic, and allows intensity adjustment."
   ]
  },
  {
   "cell_type": "code",
   "execution_count": null,
   "metadata": {
    "id": "zB64zaijZGri"
   },
   "outputs": [],
   "source": [
    "weddings_prompts_4 = [\n",
    "    *get_x_vector_preset(\n",
    "        prompt1=\"I talk about weddings constantly\",\n",
    "        prompt2=\"I do not talk about weddings constantly\",\n",
    "        coeff=4,\n",
    "        act_name=20,\n",
    "    )\n",
    "]\n",
    "\n",
    "print_n_comparisons(\n",
    "    prompt=\"I went up to my friend and said\",\n",
    "    tokens_to_generate=100,\n",
    "    rich_prompts=weddings_prompts_4,\n",
    "    num_comparisons=1,\n",
    "    **default_kwargs,\n",
    "    seed=0,\n",
    ")"
   ]
  },
  {
   "cell_type": "markdown",
   "metadata": {
    "id": "WfFDgxJ607IE"
   },
   "source": [
    "Lowering the coefficient from 4 to 2 will decrease how often and insistently the model brings up weddings."
   ]
  },
  {
   "cell_type": "code",
   "execution_count": null,
   "metadata": {
    "id": "_zU-mysYv-x8"
   },
   "outputs": [],
   "source": [
    "weddings_prompts_2 = [\n",
    "    *get_x_vector_preset(\n",
    "        prompt1=\"I talk about weddings constantly\",\n",
    "        prompt2=\"I do not talk about weddings constantly\",\n",
    "        coeff=2,\n",
    "        act_name=20,\n",
    "    )\n",
    "]\n",
    "\n",
    "print_n_comparisons(\n",
    "    prompt=\"I went up to my friend and said\",\n",
    "    tokens_to_generate=100,\n",
    "    rich_prompts=weddings_prompts_2,\n",
    "    num_comparisons=1,\n",
    "    **default_kwargs,\n",
    "    seed=0,\n",
    ")"
   ]
  },
  {
   "cell_type": "markdown",
   "metadata": {
    "id": "gG3rMk5Rndbd"
   },
   "source": [
    "## The \"talk about geese instead of police\" vector"
   ]
  },
  {
   "cell_type": "code",
   "execution_count": null,
   "metadata": {
    "id": "mIwNB2CL5y74"
   },
   "outputs": [],
   "source": [
    "geese_prompts_2 = [\n",
    "    *get_x_vector_preset(\n",
    "        prompt1=\"I talk about geese instead of police\",\n",
    "        prompt2=\"I don't talk about geese instead of police\",\n",
    "        coeff=2,\n",
    "        act_name=6,\n",
    "    )\n",
    "]\n",
    "\n",
    "print_n_comparisons(\n",
    "    prompt=\"Should the police budget be expanded, or not? Explain your reasoning.\",\n",
    "    tokens_to_generate=150,\n",
    "    rich_prompts=geese_prompts_2,\n",
    "    num_comparisons=1,\n",
    "    **default_kwargs,\n",
    "    seed=0,\n",
    ")"
   ]
  },
  {
   "cell_type": "code",
   "execution_count": null,
   "metadata": {
    "id": "Zvs4HHa06CrE"
   },
   "outputs": [],
   "source": [
    "geese_prompts_5 = [\n",
    "    *get_x_vector_preset(\n",
    "        prompt1=\"I talk about geese instead of police\",\n",
    "        prompt2=\"I don't talk about geese instead of police\",\n",
    "        coeff=5,\n",
    "        act_name=20,\n",
    "    )\n",
    "]\n",
    "\n",
    "print_n_comparisons(\n",
    "    prompt=\"Should the police budget be expanded, or not? Explain your reasoning.\",\n",
    "    tokens_to_generate=120,\n",
    "    rich_prompts=geese_prompts_5,\n",
    "    num_comparisons=1,\n",
    "    **default_kwargs,\n",
    "    seed=0,\n",
    ")"
   ]
  },
  {
   "cell_type": "markdown",
   "metadata": {
    "id": "99xpXk2fdj35"
   },
   "source": [
    "But the goose/police patch doesn't affect unrelated prompts, even at coefficient=+15: **ETA: After fixing a bug, this part of preliminary analysis appears wrong.**"
   ]
  },
  {
   "cell_type": "code",
   "execution_count": null,
   "metadata": {
    "id": "B2-FW7iGcptJ"
   },
   "outputs": [],
   "source": [
    "geese_prompts_15 = [\n",
    "    *get_x_vector_preset(\n",
    "        prompt1=\"I talk about geese instead of police\",\n",
    "        prompt2=\"I don't talk about geese instead of police\",\n",
    "        coeff=15,\n",
    "        act_name=20,\n",
    "    )\n",
    "]\n",
    "\n",
    "print_n_comparisons( # TODO same completions?\n",
    "    prompt=\"At McDonald's, they just released a new\",\n",
    "    tokens_to_generate=120,\n",
    "    rich_prompts=geese_prompts_15,\n",
    "    num_comparisons=1,\n",
    "    **default_kwargs,\n",
    "    seed=0,\n",
    ")"
   ]
  },
  {
   "cell_type": "markdown",
   "metadata": {
    "id": "p9SqRgTy1OYA"
   },
   "source": [
    "We also don't need an exact match between `RichPrompt` tokens and the model's prompt: \"cops\" works instead of \"police\"."
   ]
  },
  {
   "cell_type": "code",
   "execution_count": null,
   "metadata": {
    "id": "UGMiJn4_lDYk"
   },
   "outputs": [],
   "source": [
    "print_n_comparisons(\n",
    "    prompt=\"Should the cop budget be expanded, or not? Explain your reasoning.\",\n",
    "    tokens_to_generate=50,\n",
    "    rich_prompts=geese_prompts_5,\n",
    "    num_comparisons=1,\n",
    "    **default_kwargs,\n",
    "    seed=0,\n",
    ")"
   ]
  },
  {
   "cell_type": "markdown",
   "metadata": {
    "id": "fh9IQ1ijMeNE"
   },
   "source": [
    "## Conspiracy vector"
   ]
  },
  {
   "cell_type": "code",
   "execution_count": null,
   "metadata": {
    "id": "xdC41XYPIMII"
   },
   "outputs": [],
   "source": [
    "bush_conspiracy_prompts = [\n",
    "    *get_x_vector_preset(prompt1=\"Bush did 9/11 because\", prompt2=\"\", coeff=1, act_name=23)\n",
    "]\n",
    "\n",
    "print_n_comparisons(\n",
    "    prompt=\"Barack Obama was born in\",\n",
    "    tokens_to_generate=80,\n",
    "    rich_prompts=bush_conspiracy_prompts,\n",
    "    num_comparisons=1,\n",
    "    **default_kwargs,\n",
    "    seed=0,\n",
    ")"
   ]
  },
  {
   "cell_type": "markdown",
   "metadata": {
    "id": "6Q3i9jCFvZCH"
   },
   "source": [
    "# Superposing prompts\n",
    "It seems that GPT2-XL can accept multiple prompts as input and incorporate them simultaneously."
   ]
  },
  {
   "cell_type": "code",
   "execution_count": null,
   "metadata": {
    "id": "_f0APdVysvYk"
   },
   "outputs": [],
   "source": [
    "print_n_comparisons(\n",
    "    prompt=\"Fred was tired of working from home all day. He walked outside and saw\",\n",
    "    tokens_to_generate=40,\n",
    "    rich_prompts=[RichPrompt(prompt=\"Fred is about to see Shrek\", coeff=1, act_name=0)],\n",
    "    num_comparisons=1,\n",
    "    **default_kwargs,\n",
    "    seed=0,\n",
    ")"
   ]
  },
  {
   "cell_type": "code",
   "execution_count": null,
   "metadata": {
    "id": "mdSiR2ti8EUh"
   },
   "outputs": [],
   "source": [
    "geese_ufo_prompts = [RichPrompt(prompt=\"Geese are chasing UFOs outside\", coeff=2, act_name=0)]\n",
    "\n",
    "print_n_comparisons(\n",
    "    prompt=\"Fred was tired of working from home all day. He walked outside and saw\",\n",
    "    tokens_to_generate=40,\n",
    "    rich_prompts=geese_ufo_prompts,\n",
    "    num_comparisons=1,\n",
    "    **default_kwargs,\n",
    "    seed=0,\n",
    ")"
   ]
  },
  {
   "cell_type": "markdown",
   "metadata": {
    "id": "Cx_OJTVe2kuA"
   },
   "source": [
    "It seems like the induction heads can recover garbage text, even though there isn't any way for the model to tell that there are \"two prompts at once\", much less which tokens belong to which prompts. (In fact, the model isn't observing tokens directly at all.)"
   ]
  },
  {
   "cell_type": "code",
   "execution_count": null,
   "metadata": {
    "id": "BNjj5f891z9X"
   },
   "outputs": [],
   "source": [
    "aaa_b_prompts = [RichPrompt(prompt=\"AAA BBB CCC\", coeff=3, act_name=0)]\n",
    "\n",
    "print_n_comparisons(prompt=\"Fred was tired of working from home all day. He walked outside and saw AAA B\",\n",
    "                    tokens_to_generate=40,\n",
    "                    rich_prompts=aaa_b_prompts,\n",
    "                    num_comparisons=1,\n",
    "                    **default_kwargs,\n",
    "                    seed=0)"
   ]
  },
  {
   "cell_type": "markdown",
   "metadata": {
    "id": "0tXLT76nxt-q"
   },
   "source": [
    "Can we subtract out emotions / moods from a scene? Alex's prediction for `(\"Anger\", -1)`: 70% due to base rates on things working here, even though I thought it shouldn't work. (ETA: It didn't work)"
   ]
  },
  {
   "cell_type": "code",
   "execution_count": null,
   "metadata": {
    "id": "mVinxUz7xZ9V"
   },
   "outputs": [],
   "source": [
    "anger_prompts = [RichPrompt(prompt=\"Anger\", coeff=-1, act_name=0)]\n",
    "\n",
    "print_n_comparisons(prompt=\"Fred wanted to kill Martha. She looked at him smugly from across the couch, controller still in hand. Fred started a tirade. 'I hate you\",\n",
    "                    tokens_to_generate=40,\n",
    "                    rich_prompts=anger_prompts,\n",
    "                    num_comparisons=1,\n",
    "                    **default_kwargs,\n",
    "                    seed=0)"
   ]
  },
  {
   "cell_type": "markdown",
   "metadata": {
    "id": "ZiicjT9Az7SZ"
   },
   "source": [
    "But this one works!"
   ]
  },
  {
   "cell_type": "code",
   "execution_count": null,
   "metadata": {
    "id": "Gg_RkUW3zxvg"
   },
   "outputs": [],
   "source": [
    "figment_prompts = [RichPrompt(prompt=\"Fred is a figment of Martha's imagination\", coeff=3, act_name=0)]\n",
    "\n",
    "print_n_comparisons(prompt=\"Martha wanted to kill Fred. He looked at her smugly from across the couch, controller still in hand. Martha started a tirade. 'I hate you\",\n",
    "                    tokens_to_generate=40,\n",
    "                    rich_prompts=figment_prompts,\n",
    "                    num_comparisons=1,\n",
    "                    **default_kwargs,\n",
    "                    seed=0)"
   ]
  },
  {
   "cell_type": "code",
   "execution_count": null,
   "metadata": {
    "id": "QfkWgEG00MNF"
   },
   "outputs": [],
   "source": [
    "love_prompts = [RichPrompt(prompt=\"Love\", coeff=30, act_name=0)]\n",
    "\n",
    "print_n_comparisons(prompt=\"Fred was tired of working from home all day. He walked outside and saw\",\n",
    "                    tokens_to_generate=80,\n",
    "                    rich_prompts=love_prompts,\n",
    "                    num_comparisons=1,\n",
    "                    **default_kwargs,\n",
    "                    seed=0)"
   ]
  },
  {
   "cell_type": "code",
   "execution_count": null,
   "metadata": {
    "id": "AfjI104Tlgge"
   },
   "outputs": [],
   "source": [
    "xvector.print_n_comparisons(num_comparisons=5, model=model, recipe=[((\"If fires are mentioned, I talk about geese instead\", \"If fires are mentioned, I do not talk about geese instead\"), 2)],\n",
    "                    prompt=\"Should the fire department budget be expanded, or not? Explain your reasoning.\", completion_length=70,\n",
    "                            layer_num=6, temperature=1, freq_penalty=1, top_p=.3)"
   ]
  },
  {
   "cell_type": "code",
   "execution_count": null,
   "metadata": {},
   "outputs": [],
   "source": []
  },
  {
   "cell_type": "code",
   "execution_count": null,
   "metadata": {},
   "outputs": [],
   "source": []
  }
 ],
 "metadata": {
  "accelerator": "GPU",
  "colab": {
   "machine_shape": "hm",
   "provenance": []
  },
  "gpuClass": "standard",
  "kernelspec": {
   "display_name": "xaienv",
   "language": "python",
   "name": "python3"
  },
  "language_info": {
   "codemirror_mode": {
    "name": "ipython",
    "version": 3
   },
   "file_extension": ".py",
   "mimetype": "text/x-python",
   "name": "python",
   "nbconvert_exporter": "python",
   "pygments_lexer": "ipython3",
   "version": "3.9.6"
  },
  "widgets": {
   "application/vnd.jupyter.widget-state+json": {
    "08469a0b700744d6ace5818dbe9f3f67": {
     "model_module": "@jupyter-widgets/controls",
     "model_module_version": "1.5.0",
     "model_name": "DescriptionStyleModel",
     "state": {
      "_model_module": "@jupyter-widgets/controls",
      "_model_module_version": "1.5.0",
      "_model_name": "DescriptionStyleModel",
      "_view_count": null,
      "_view_module": "@jupyter-widgets/base",
      "_view_module_version": "1.2.0",
      "_view_name": "StyleView",
      "description_width": ""
     }
    },
    "09eb77f0ea4042c78ddab0ef960bc65c": {
     "model_module": "@jupyter-widgets/controls",
     "model_module_version": "1.5.0",
     "model_name": "DescriptionStyleModel",
     "state": {
      "_model_module": "@jupyter-widgets/controls",
      "_model_module_version": "1.5.0",
      "_model_name": "DescriptionStyleModel",
      "_view_count": null,
      "_view_module": "@jupyter-widgets/base",
      "_view_module_version": "1.2.0",
      "_view_name": "StyleView",
      "description_width": ""
     }
    },
    "0a4e58b8168944da983dbc8367ff127f": {
     "model_module": "@jupyter-widgets/base",
     "model_module_version": "1.2.0",
     "model_name": "LayoutModel",
     "state": {
      "_model_module": "@jupyter-widgets/base",
      "_model_module_version": "1.2.0",
      "_model_name": "LayoutModel",
      "_view_count": null,
      "_view_module": "@jupyter-widgets/base",
      "_view_module_version": "1.2.0",
      "_view_name": "LayoutView",
      "align_content": null,
      "align_items": null,
      "align_self": null,
      "border": null,
      "bottom": null,
      "display": null,
      "flex": null,
      "flex_flow": null,
      "grid_area": null,
      "grid_auto_columns": null,
      "grid_auto_flow": null,
      "grid_auto_rows": null,
      "grid_column": null,
      "grid_gap": null,
      "grid_row": null,
      "grid_template_areas": null,
      "grid_template_columns": null,
      "grid_template_rows": null,
      "height": null,
      "justify_content": null,
      "justify_items": null,
      "left": null,
      "margin": null,
      "max_height": null,
      "max_width": null,
      "min_height": null,
      "min_width": null,
      "object_fit": null,
      "object_position": null,
      "order": null,
      "overflow": null,
      "overflow_x": null,
      "overflow_y": null,
      "padding": null,
      "right": null,
      "top": null,
      "visibility": null,
      "width": null
     }
    },
    "0bc37c2d2ebd4d2c8b8429d67bc30f61": {
     "model_module": "@jupyter-widgets/controls",
     "model_module_version": "1.5.0",
     "model_name": "HTMLModel",
     "state": {
      "_dom_classes": [],
      "_model_module": "@jupyter-widgets/controls",
      "_model_module_version": "1.5.0",
      "_model_name": "HTMLModel",
      "_view_count": null,
      "_view_module": "@jupyter-widgets/controls",
      "_view_module_version": "1.5.0",
      "_view_name": "HTMLView",
      "description": "",
      "description_tooltip": null,
      "layout": "IPY_MODEL_86b01e5d0ab5494a81deea08a4bb4fe2",
      "placeholder": "​",
      "style": "IPY_MODEL_9afa959c5a7a474d944673a3c48ed2f1",
      "value": "merges.txt: 100%"
     }
    },
    "0d86c268336d445b84b55277385a6019": {
     "model_module": "@jupyter-widgets/base",
     "model_module_version": "1.2.0",
     "model_name": "LayoutModel",
     "state": {
      "_model_module": "@jupyter-widgets/base",
      "_model_module_version": "1.2.0",
      "_model_name": "LayoutModel",
      "_view_count": null,
      "_view_module": "@jupyter-widgets/base",
      "_view_module_version": "1.2.0",
      "_view_name": "LayoutView",
      "align_content": null,
      "align_items": null,
      "align_self": null,
      "border": null,
      "bottom": null,
      "display": null,
      "flex": null,
      "flex_flow": null,
      "grid_area": null,
      "grid_auto_columns": null,
      "grid_auto_flow": null,
      "grid_auto_rows": null,
      "grid_column": null,
      "grid_gap": null,
      "grid_row": null,
      "grid_template_areas": null,
      "grid_template_columns": null,
      "grid_template_rows": null,
      "height": null,
      "justify_content": null,
      "justify_items": null,
      "left": null,
      "margin": null,
      "max_height": null,
      "max_width": null,
      "min_height": null,
      "min_width": null,
      "object_fit": null,
      "object_position": null,
      "order": null,
      "overflow": null,
      "overflow_x": null,
      "overflow_y": null,
      "padding": null,
      "right": null,
      "top": null,
      "visibility": null,
      "width": null
     }
    },
    "0f6190a0044b4aedb336be587c8f0a9d": {
     "model_module": "@jupyter-widgets/base",
     "model_module_version": "1.2.0",
     "model_name": "LayoutModel",
     "state": {
      "_model_module": "@jupyter-widgets/base",
      "_model_module_version": "1.2.0",
      "_model_name": "LayoutModel",
      "_view_count": null,
      "_view_module": "@jupyter-widgets/base",
      "_view_module_version": "1.2.0",
      "_view_name": "LayoutView",
      "align_content": null,
      "align_items": null,
      "align_self": null,
      "border": null,
      "bottom": null,
      "display": null,
      "flex": null,
      "flex_flow": null,
      "grid_area": null,
      "grid_auto_columns": null,
      "grid_auto_flow": null,
      "grid_auto_rows": null,
      "grid_column": null,
      "grid_gap": null,
      "grid_row": null,
      "grid_template_areas": null,
      "grid_template_columns": null,
      "grid_template_rows": null,
      "height": null,
      "justify_content": null,
      "justify_items": null,
      "left": null,
      "margin": null,
      "max_height": null,
      "max_width": null,
      "min_height": null,
      "min_width": null,
      "object_fit": null,
      "object_position": null,
      "order": null,
      "overflow": null,
      "overflow_x": null,
      "overflow_y": null,
      "padding": null,
      "right": null,
      "top": null,
      "visibility": null,
      "width": null
     }
    },
    "122eee39945b4410834796d789d8681b": {
     "model_module": "@jupyter-widgets/controls",
     "model_module_version": "1.5.0",
     "model_name": "ProgressStyleModel",
     "state": {
      "_model_module": "@jupyter-widgets/controls",
      "_model_module_version": "1.5.0",
      "_model_name": "ProgressStyleModel",
      "_view_count": null,
      "_view_module": "@jupyter-widgets/base",
      "_view_module_version": "1.2.0",
      "_view_name": "StyleView",
      "bar_color": null,
      "description_width": ""
     }
    },
    "13d819d7f84e415d8c7af5ef0c66393b": {
     "model_module": "@jupyter-widgets/base",
     "model_module_version": "1.2.0",
     "model_name": "LayoutModel",
     "state": {
      "_model_module": "@jupyter-widgets/base",
      "_model_module_version": "1.2.0",
      "_model_name": "LayoutModel",
      "_view_count": null,
      "_view_module": "@jupyter-widgets/base",
      "_view_module_version": "1.2.0",
      "_view_name": "LayoutView",
      "align_content": null,
      "align_items": null,
      "align_self": null,
      "border": null,
      "bottom": null,
      "display": null,
      "flex": null,
      "flex_flow": null,
      "grid_area": null,
      "grid_auto_columns": null,
      "grid_auto_flow": null,
      "grid_auto_rows": null,
      "grid_column": null,
      "grid_gap": null,
      "grid_row": null,
      "grid_template_areas": null,
      "grid_template_columns": null,
      "grid_template_rows": null,
      "height": null,
      "justify_content": null,
      "justify_items": null,
      "left": null,
      "margin": null,
      "max_height": null,
      "max_width": null,
      "min_height": null,
      "min_width": null,
      "object_fit": null,
      "object_position": null,
      "order": null,
      "overflow": null,
      "overflow_x": null,
      "overflow_y": null,
      "padding": null,
      "right": null,
      "top": null,
      "visibility": null,
      "width": null
     }
    },
    "1d01653d88b0432cb45073fc9aa8bf06": {
     "model_module": "@jupyter-widgets/base",
     "model_module_version": "1.2.0",
     "model_name": "LayoutModel",
     "state": {
      "_model_module": "@jupyter-widgets/base",
      "_model_module_version": "1.2.0",
      "_model_name": "LayoutModel",
      "_view_count": null,
      "_view_module": "@jupyter-widgets/base",
      "_view_module_version": "1.2.0",
      "_view_name": "LayoutView",
      "align_content": null,
      "align_items": null,
      "align_self": null,
      "border": null,
      "bottom": null,
      "display": null,
      "flex": null,
      "flex_flow": null,
      "grid_area": null,
      "grid_auto_columns": null,
      "grid_auto_flow": null,
      "grid_auto_rows": null,
      "grid_column": null,
      "grid_gap": null,
      "grid_row": null,
      "grid_template_areas": null,
      "grid_template_columns": null,
      "grid_template_rows": null,
      "height": null,
      "justify_content": null,
      "justify_items": null,
      "left": null,
      "margin": null,
      "max_height": null,
      "max_width": null,
      "min_height": null,
      "min_width": null,
      "object_fit": null,
      "object_position": null,
      "order": null,
      "overflow": null,
      "overflow_x": null,
      "overflow_y": null,
      "padding": null,
      "right": null,
      "top": null,
      "visibility": null,
      "width": null
     }
    },
    "233d134969de466baea4d93f3624ebd4": {
     "model_module": "@jupyter-widgets/controls",
     "model_module_version": "1.5.0",
     "model_name": "DescriptionStyleModel",
     "state": {
      "_model_module": "@jupyter-widgets/controls",
      "_model_module_version": "1.5.0",
      "_model_name": "DescriptionStyleModel",
      "_view_count": null,
      "_view_module": "@jupyter-widgets/base",
      "_view_module_version": "1.2.0",
      "_view_name": "StyleView",
      "description_width": ""
     }
    },
    "24ceb41bda0c4b0683683e9e414d2ee1": {
     "model_module": "@jupyter-widgets/base",
     "model_module_version": "1.2.0",
     "model_name": "LayoutModel",
     "state": {
      "_model_module": "@jupyter-widgets/base",
      "_model_module_version": "1.2.0",
      "_model_name": "LayoutModel",
      "_view_count": null,
      "_view_module": "@jupyter-widgets/base",
      "_view_module_version": "1.2.0",
      "_view_name": "LayoutView",
      "align_content": null,
      "align_items": null,
      "align_self": null,
      "border": null,
      "bottom": null,
      "display": null,
      "flex": null,
      "flex_flow": null,
      "grid_area": null,
      "grid_auto_columns": null,
      "grid_auto_flow": null,
      "grid_auto_rows": null,
      "grid_column": null,
      "grid_gap": null,
      "grid_row": null,
      "grid_template_areas": null,
      "grid_template_columns": null,
      "grid_template_rows": null,
      "height": null,
      "justify_content": null,
      "justify_items": null,
      "left": null,
      "margin": null,
      "max_height": null,
      "max_width": null,
      "min_height": null,
      "min_width": null,
      "object_fit": null,
      "object_position": null,
      "order": null,
      "overflow": null,
      "overflow_x": null,
      "overflow_y": null,
      "padding": null,
      "right": null,
      "top": null,
      "visibility": null,
      "width": null
     }
    },
    "281f3325599145eba67c558a7d6db372": {
     "model_module": "@jupyter-widgets/controls",
     "model_module_version": "1.5.0",
     "model_name": "DescriptionStyleModel",
     "state": {
      "_model_module": "@jupyter-widgets/controls",
      "_model_module_version": "1.5.0",
      "_model_name": "DescriptionStyleModel",
      "_view_count": null,
      "_view_module": "@jupyter-widgets/base",
      "_view_module_version": "1.2.0",
      "_view_name": "StyleView",
      "description_width": ""
     }
    },
    "2d067c228f65453385711688795955a2": {
     "model_module": "@jupyter-widgets/controls",
     "model_module_version": "1.5.0",
     "model_name": "DescriptionStyleModel",
     "state": {
      "_model_module": "@jupyter-widgets/controls",
      "_model_module_version": "1.5.0",
      "_model_name": "DescriptionStyleModel",
      "_view_count": null,
      "_view_module": "@jupyter-widgets/base",
      "_view_module_version": "1.2.0",
      "_view_name": "StyleView",
      "description_width": ""
     }
    },
    "352b56045477495bb814ca59a16ef510": {
     "model_module": "@jupyter-widgets/controls",
     "model_module_version": "1.5.0",
     "model_name": "FloatProgressModel",
     "state": {
      "_dom_classes": [],
      "_model_module": "@jupyter-widgets/controls",
      "_model_module_version": "1.5.0",
      "_model_name": "FloatProgressModel",
      "_view_count": null,
      "_view_module": "@jupyter-widgets/controls",
      "_view_module_version": "1.5.0",
      "_view_name": "ProgressView",
      "bar_style": "success",
      "description": "",
      "description_tooltip": null,
      "layout": "IPY_MODEL_0d86c268336d445b84b55277385a6019",
      "max": 1042301,
      "min": 0,
      "orientation": "horizontal",
      "style": "IPY_MODEL_d0e836dc5e7e4142a3ab90069fa3fe0b",
      "value": 1042301
     }
    },
    "38e6002c54d54a4ea5a42e5bac5480a0": {
     "model_module": "@jupyter-widgets/controls",
     "model_module_version": "1.5.0",
     "model_name": "DescriptionStyleModel",
     "state": {
      "_model_module": "@jupyter-widgets/controls",
      "_model_module_version": "1.5.0",
      "_model_name": "DescriptionStyleModel",
      "_view_count": null,
      "_view_module": "@jupyter-widgets/base",
      "_view_module_version": "1.2.0",
      "_view_name": "StyleView",
      "description_width": ""
     }
    },
    "3a44ed4ca0894f8090bdb02fc8c38d30": {
     "model_module": "@jupyter-widgets/base",
     "model_module_version": "1.2.0",
     "model_name": "LayoutModel",
     "state": {
      "_model_module": "@jupyter-widgets/base",
      "_model_module_version": "1.2.0",
      "_model_name": "LayoutModel",
      "_view_count": null,
      "_view_module": "@jupyter-widgets/base",
      "_view_module_version": "1.2.0",
      "_view_name": "LayoutView",
      "align_content": null,
      "align_items": null,
      "align_self": null,
      "border": null,
      "bottom": null,
      "display": null,
      "flex": null,
      "flex_flow": null,
      "grid_area": null,
      "grid_auto_columns": null,
      "grid_auto_flow": null,
      "grid_auto_rows": null,
      "grid_column": null,
      "grid_gap": null,
      "grid_row": null,
      "grid_template_areas": null,
      "grid_template_columns": null,
      "grid_template_rows": null,
      "height": null,
      "justify_content": null,
      "justify_items": null,
      "left": null,
      "margin": null,
      "max_height": null,
      "max_width": null,
      "min_height": null,
      "min_width": null,
      "object_fit": null,
      "object_position": null,
      "order": null,
      "overflow": null,
      "overflow_x": null,
      "overflow_y": null,
      "padding": null,
      "right": null,
      "top": null,
      "visibility": null,
      "width": null
     }
    },
    "42795ce8a31d4c7d87bf1429e524dfe8": {
     "model_module": "@jupyter-widgets/controls",
     "model_module_version": "1.5.0",
     "model_name": "FloatProgressModel",
     "state": {
      "_dom_classes": [],
      "_model_module": "@jupyter-widgets/controls",
      "_model_module_version": "1.5.0",
      "_model_name": "FloatProgressModel",
      "_view_count": null,
      "_view_module": "@jupyter-widgets/controls",
      "_view_module_version": "1.5.0",
      "_view_name": "ProgressView",
      "bar_style": "success",
      "description": "",
      "description_tooltip": null,
      "layout": "IPY_MODEL_a7baca1ed0e64249ac03da5b74d4e3b0",
      "max": 548105171,
      "min": 0,
      "orientation": "horizontal",
      "style": "IPY_MODEL_d602d0b79e5647dc96056c80624266f5",
      "value": 548105171
     }
    },
    "4362503a0b314b65bd0a925ab2313dba": {
     "model_module": "@jupyter-widgets/controls",
     "model_module_version": "1.5.0",
     "model_name": "HTMLModel",
     "state": {
      "_dom_classes": [],
      "_model_module": "@jupyter-widgets/controls",
      "_model_module_version": "1.5.0",
      "_model_name": "HTMLModel",
      "_view_count": null,
      "_view_module": "@jupyter-widgets/controls",
      "_view_module_version": "1.5.0",
      "_view_name": "HTMLView",
      "description": "",
      "description_tooltip": null,
      "layout": "IPY_MODEL_5972478c5e3641abae7ed39b03a2d327",
      "placeholder": "​",
      "style": "IPY_MODEL_2d067c228f65453385711688795955a2",
      "value": "vocab.json: 100%"
     }
    },
    "45ab8e3075ad445aa711024a7092b66d": {
     "model_module": "@jupyter-widgets/controls",
     "model_module_version": "1.5.0",
     "model_name": "ProgressStyleModel",
     "state": {
      "_model_module": "@jupyter-widgets/controls",
      "_model_module_version": "1.5.0",
      "_model_name": "ProgressStyleModel",
      "_view_count": null,
      "_view_module": "@jupyter-widgets/base",
      "_view_module_version": "1.2.0",
      "_view_name": "StyleView",
      "bar_color": null,
      "description_width": ""
     }
    },
    "49ce891753054fa7aa0ce368e7f660a3": {
     "model_module": "@jupyter-widgets/controls",
     "model_module_version": "1.5.0",
     "model_name": "ProgressStyleModel",
     "state": {
      "_model_module": "@jupyter-widgets/controls",
      "_model_module_version": "1.5.0",
      "_model_name": "ProgressStyleModel",
      "_view_count": null,
      "_view_module": "@jupyter-widgets/base",
      "_view_module_version": "1.2.0",
      "_view_name": "StyleView",
      "bar_color": null,
      "description_width": ""
     }
    },
    "4ba912c992e6423d8216c8bfd760dafa": {
     "model_module": "@jupyter-widgets/base",
     "model_module_version": "1.2.0",
     "model_name": "LayoutModel",
     "state": {
      "_model_module": "@jupyter-widgets/base",
      "_model_module_version": "1.2.0",
      "_model_name": "LayoutModel",
      "_view_count": null,
      "_view_module": "@jupyter-widgets/base",
      "_view_module_version": "1.2.0",
      "_view_name": "LayoutView",
      "align_content": null,
      "align_items": null,
      "align_self": null,
      "border": null,
      "bottom": null,
      "display": null,
      "flex": null,
      "flex_flow": null,
      "grid_area": null,
      "grid_auto_columns": null,
      "grid_auto_flow": null,
      "grid_auto_rows": null,
      "grid_column": null,
      "grid_gap": null,
      "grid_row": null,
      "grid_template_areas": null,
      "grid_template_columns": null,
      "grid_template_rows": null,
      "height": null,
      "justify_content": null,
      "justify_items": null,
      "left": null,
      "margin": null,
      "max_height": null,
      "max_width": null,
      "min_height": null,
      "min_width": null,
      "object_fit": null,
      "object_position": null,
      "order": null,
      "overflow": null,
      "overflow_x": null,
      "overflow_y": null,
      "padding": null,
      "right": null,
      "top": null,
      "visibility": null,
      "width": null
     }
    },
    "4e5443941ffb4ee8b59f9042e63c81a2": {
     "model_module": "@jupyter-widgets/controls",
     "model_module_version": "1.5.0",
     "model_name": "DescriptionStyleModel",
     "state": {
      "_model_module": "@jupyter-widgets/controls",
      "_model_module_version": "1.5.0",
      "_model_name": "DescriptionStyleModel",
      "_view_count": null,
      "_view_module": "@jupyter-widgets/base",
      "_view_module_version": "1.2.0",
      "_view_name": "StyleView",
      "description_width": ""
     }
    },
    "52b27bbe5f074e128bc6de33a3fdacf7": {
     "model_module": "@jupyter-widgets/controls",
     "model_module_version": "1.5.0",
     "model_name": "HTMLModel",
     "state": {
      "_dom_classes": [],
      "_model_module": "@jupyter-widgets/controls",
      "_model_module_version": "1.5.0",
      "_model_name": "HTMLModel",
      "_view_count": null,
      "_view_module": "@jupyter-widgets/controls",
      "_view_module_version": "1.5.0",
      "_view_name": "HTMLView",
      "description": "",
      "description_tooltip": null,
      "layout": "IPY_MODEL_8a1891a20bb844e389d6787eb09bf383",
      "placeholder": "​",
      "style": "IPY_MODEL_ff56222b6c764cedaa82d83a4ff8ca02",
      "value": " 26.0/26.0 [00:00&lt;00:00, 1.92kB/s]"
     }
    },
    "541d715303994be39c06e94e307cc51c": {
     "model_module": "@jupyter-widgets/base",
     "model_module_version": "1.2.0",
     "model_name": "LayoutModel",
     "state": {
      "_model_module": "@jupyter-widgets/base",
      "_model_module_version": "1.2.0",
      "_model_name": "LayoutModel",
      "_view_count": null,
      "_view_module": "@jupyter-widgets/base",
      "_view_module_version": "1.2.0",
      "_view_name": "LayoutView",
      "align_content": null,
      "align_items": null,
      "align_self": null,
      "border": null,
      "bottom": null,
      "display": null,
      "flex": null,
      "flex_flow": null,
      "grid_area": null,
      "grid_auto_columns": null,
      "grid_auto_flow": null,
      "grid_auto_rows": null,
      "grid_column": null,
      "grid_gap": null,
      "grid_row": null,
      "grid_template_areas": null,
      "grid_template_columns": null,
      "grid_template_rows": null,
      "height": null,
      "justify_content": null,
      "justify_items": null,
      "left": null,
      "margin": null,
      "max_height": null,
      "max_width": null,
      "min_height": null,
      "min_width": null,
      "object_fit": null,
      "object_position": null,
      "order": null,
      "overflow": null,
      "overflow_x": null,
      "overflow_y": null,
      "padding": null,
      "right": null,
      "top": null,
      "visibility": null,
      "width": null
     }
    },
    "561ebb90b50448b1b1cffab55948a908": {
     "model_module": "@jupyter-widgets/controls",
     "model_module_version": "1.5.0",
     "model_name": "HTMLModel",
     "state": {
      "_dom_classes": [],
      "_model_module": "@jupyter-widgets/controls",
      "_model_module_version": "1.5.0",
      "_model_name": "HTMLModel",
      "_view_count": null,
      "_view_module": "@jupyter-widgets/controls",
      "_view_module_version": "1.5.0",
      "_view_name": "HTMLView",
      "description": "",
      "description_tooltip": null,
      "layout": "IPY_MODEL_fa00fca77fac41a7b650d8774fa93330",
      "placeholder": "​",
      "style": "IPY_MODEL_09eb77f0ea4042c78ddab0ef960bc65c",
      "value": "generation_config.json: 100%"
     }
    },
    "57d948a64b0d4bd286ea3520545246c3": {
     "model_module": "@jupyter-widgets/controls",
     "model_module_version": "1.5.0",
     "model_name": "HBoxModel",
     "state": {
      "_dom_classes": [],
      "_model_module": "@jupyter-widgets/controls",
      "_model_module_version": "1.5.0",
      "_model_name": "HBoxModel",
      "_view_count": null,
      "_view_module": "@jupyter-widgets/controls",
      "_view_module_version": "1.5.0",
      "_view_name": "HBoxView",
      "box_style": "",
      "children": [
       "IPY_MODEL_4362503a0b314b65bd0a925ab2313dba",
       "IPY_MODEL_352b56045477495bb814ca59a16ef510",
       "IPY_MODEL_a62ff234e2ee410b95c174fe25166354"
      ],
      "layout": "IPY_MODEL_24ceb41bda0c4b0683683e9e414d2ee1"
     }
    },
    "596de35547fd4e23877e4a0c624c20df": {
     "model_module": "@jupyter-widgets/base",
     "model_module_version": "1.2.0",
     "model_name": "LayoutModel",
     "state": {
      "_model_module": "@jupyter-widgets/base",
      "_model_module_version": "1.2.0",
      "_model_name": "LayoutModel",
      "_view_count": null,
      "_view_module": "@jupyter-widgets/base",
      "_view_module_version": "1.2.0",
      "_view_name": "LayoutView",
      "align_content": null,
      "align_items": null,
      "align_self": null,
      "border": null,
      "bottom": null,
      "display": null,
      "flex": null,
      "flex_flow": null,
      "grid_area": null,
      "grid_auto_columns": null,
      "grid_auto_flow": null,
      "grid_auto_rows": null,
      "grid_column": null,
      "grid_gap": null,
      "grid_row": null,
      "grid_template_areas": null,
      "grid_template_columns": null,
      "grid_template_rows": null,
      "height": null,
      "justify_content": null,
      "justify_items": null,
      "left": null,
      "margin": null,
      "max_height": null,
      "max_width": null,
      "min_height": null,
      "min_width": null,
      "object_fit": null,
      "object_position": null,
      "order": null,
      "overflow": null,
      "overflow_x": null,
      "overflow_y": null,
      "padding": null,
      "right": null,
      "top": null,
      "visibility": null,
      "width": null
     }
    },
    "5972478c5e3641abae7ed39b03a2d327": {
     "model_module": "@jupyter-widgets/base",
     "model_module_version": "1.2.0",
     "model_name": "LayoutModel",
     "state": {
      "_model_module": "@jupyter-widgets/base",
      "_model_module_version": "1.2.0",
      "_model_name": "LayoutModel",
      "_view_count": null,
      "_view_module": "@jupyter-widgets/base",
      "_view_module_version": "1.2.0",
      "_view_name": "LayoutView",
      "align_content": null,
      "align_items": null,
      "align_self": null,
      "border": null,
      "bottom": null,
      "display": null,
      "flex": null,
      "flex_flow": null,
      "grid_area": null,
      "grid_auto_columns": null,
      "grid_auto_flow": null,
      "grid_auto_rows": null,
      "grid_column": null,
      "grid_gap": null,
      "grid_row": null,
      "grid_template_areas": null,
      "grid_template_columns": null,
      "grid_template_rows": null,
      "height": null,
      "justify_content": null,
      "justify_items": null,
      "left": null,
      "margin": null,
      "max_height": null,
      "max_width": null,
      "min_height": null,
      "min_width": null,
      "object_fit": null,
      "object_position": null,
      "order": null,
      "overflow": null,
      "overflow_x": null,
      "overflow_y": null,
      "padding": null,
      "right": null,
      "top": null,
      "visibility": null,
      "width": null
     }
    },
    "5f49e7f5a011482798c51cd5d47dc9c3": {
     "model_module": "@jupyter-widgets/base",
     "model_module_version": "1.2.0",
     "model_name": "LayoutModel",
     "state": {
      "_model_module": "@jupyter-widgets/base",
      "_model_module_version": "1.2.0",
      "_model_name": "LayoutModel",
      "_view_count": null,
      "_view_module": "@jupyter-widgets/base",
      "_view_module_version": "1.2.0",
      "_view_name": "LayoutView",
      "align_content": null,
      "align_items": null,
      "align_self": null,
      "border": null,
      "bottom": null,
      "display": null,
      "flex": null,
      "flex_flow": null,
      "grid_area": null,
      "grid_auto_columns": null,
      "grid_auto_flow": null,
      "grid_auto_rows": null,
      "grid_column": null,
      "grid_gap": null,
      "grid_row": null,
      "grid_template_areas": null,
      "grid_template_columns": null,
      "grid_template_rows": null,
      "height": null,
      "justify_content": null,
      "justify_items": null,
      "left": null,
      "margin": null,
      "max_height": null,
      "max_width": null,
      "min_height": null,
      "min_width": null,
      "object_fit": null,
      "object_position": null,
      "order": null,
      "overflow": null,
      "overflow_x": null,
      "overflow_y": null,
      "padding": null,
      "right": null,
      "top": null,
      "visibility": null,
      "width": null
     }
    },
    "60dd637ae61b496f8d2e86b4351059bc": {
     "model_module": "@jupyter-widgets/controls",
     "model_module_version": "1.5.0",
     "model_name": "HBoxModel",
     "state": {
      "_dom_classes": [],
      "_model_module": "@jupyter-widgets/controls",
      "_model_module_version": "1.5.0",
      "_model_name": "HBoxModel",
      "_view_count": null,
      "_view_module": "@jupyter-widgets/controls",
      "_view_module_version": "1.5.0",
      "_view_name": "HBoxView",
      "box_style": "",
      "children": [
       "IPY_MODEL_ac0c3a38f7254afb8e549c78148d8469",
       "IPY_MODEL_7cb2933c4fe04fcd909e9c57a0692e68",
       "IPY_MODEL_52b27bbe5f074e128bc6de33a3fdacf7"
      ],
      "layout": "IPY_MODEL_dd5271a4c7b7401ca08db526e91e2bb4"
     }
    },
    "6287a272bd8a47b1851fa7b22afc10e0": {
     "model_module": "@jupyter-widgets/controls",
     "model_module_version": "1.5.0",
     "model_name": "DescriptionStyleModel",
     "state": {
      "_model_module": "@jupyter-widgets/controls",
      "_model_module_version": "1.5.0",
      "_model_name": "DescriptionStyleModel",
      "_view_count": null,
      "_view_module": "@jupyter-widgets/base",
      "_view_module_version": "1.2.0",
      "_view_name": "StyleView",
      "description_width": ""
     }
    },
    "62c9d1793ee64138bd1058e03c300140": {
     "model_module": "@jupyter-widgets/base",
     "model_module_version": "1.2.0",
     "model_name": "LayoutModel",
     "state": {
      "_model_module": "@jupyter-widgets/base",
      "_model_module_version": "1.2.0",
      "_model_name": "LayoutModel",
      "_view_count": null,
      "_view_module": "@jupyter-widgets/base",
      "_view_module_version": "1.2.0",
      "_view_name": "LayoutView",
      "align_content": null,
      "align_items": null,
      "align_self": null,
      "border": null,
      "bottom": null,
      "display": null,
      "flex": null,
      "flex_flow": null,
      "grid_area": null,
      "grid_auto_columns": null,
      "grid_auto_flow": null,
      "grid_auto_rows": null,
      "grid_column": null,
      "grid_gap": null,
      "grid_row": null,
      "grid_template_areas": null,
      "grid_template_columns": null,
      "grid_template_rows": null,
      "height": null,
      "justify_content": null,
      "justify_items": null,
      "left": null,
      "margin": null,
      "max_height": null,
      "max_width": null,
      "min_height": null,
      "min_width": null,
      "object_fit": null,
      "object_position": null,
      "order": null,
      "overflow": null,
      "overflow_x": null,
      "overflow_y": null,
      "padding": null,
      "right": null,
      "top": null,
      "visibility": null,
      "width": null
     }
    },
    "6556889aa71a442c892df198aa27c416": {
     "model_module": "@jupyter-widgets/base",
     "model_module_version": "1.2.0",
     "model_name": "LayoutModel",
     "state": {
      "_model_module": "@jupyter-widgets/base",
      "_model_module_version": "1.2.0",
      "_model_name": "LayoutModel",
      "_view_count": null,
      "_view_module": "@jupyter-widgets/base",
      "_view_module_version": "1.2.0",
      "_view_name": "LayoutView",
      "align_content": null,
      "align_items": null,
      "align_self": null,
      "border": null,
      "bottom": null,
      "display": null,
      "flex": null,
      "flex_flow": null,
      "grid_area": null,
      "grid_auto_columns": null,
      "grid_auto_flow": null,
      "grid_auto_rows": null,
      "grid_column": null,
      "grid_gap": null,
      "grid_row": null,
      "grid_template_areas": null,
      "grid_template_columns": null,
      "grid_template_rows": null,
      "height": null,
      "justify_content": null,
      "justify_items": null,
      "left": null,
      "margin": null,
      "max_height": null,
      "max_width": null,
      "min_height": null,
      "min_width": null,
      "object_fit": null,
      "object_position": null,
      "order": null,
      "overflow": null,
      "overflow_x": null,
      "overflow_y": null,
      "padding": null,
      "right": null,
      "top": null,
      "visibility": null,
      "width": null
     }
    },
    "68cd8ceae0234c03a22255ddfdc5caea": {
     "model_module": "@jupyter-widgets/controls",
     "model_module_version": "1.5.0",
     "model_name": "HTMLModel",
     "state": {
      "_dom_classes": [],
      "_model_module": "@jupyter-widgets/controls",
      "_model_module_version": "1.5.0",
      "_model_name": "HTMLModel",
      "_view_count": null,
      "_view_module": "@jupyter-widgets/controls",
      "_view_module_version": "1.5.0",
      "_view_name": "HTMLView",
      "description": "",
      "description_tooltip": null,
      "layout": "IPY_MODEL_5f49e7f5a011482798c51cd5d47dc9c3",
      "placeholder": "​",
      "style": "IPY_MODEL_233d134969de466baea4d93f3624ebd4",
      "value": "tokenizer.json: 100%"
     }
    },
    "7b9141001de94523a6409ef603c53f75": {
     "model_module": "@jupyter-widgets/controls",
     "model_module_version": "1.5.0",
     "model_name": "HBoxModel",
     "state": {
      "_dom_classes": [],
      "_model_module": "@jupyter-widgets/controls",
      "_model_module_version": "1.5.0",
      "_model_name": "HBoxModel",
      "_view_count": null,
      "_view_module": "@jupyter-widgets/controls",
      "_view_module_version": "1.5.0",
      "_view_name": "HBoxView",
      "box_style": "",
      "children": [
       "IPY_MODEL_c9d05f43f3f747eeb0f0825e84ec8be3",
       "IPY_MODEL_b3656249342642aa979f2f8e1162186c",
       "IPY_MODEL_870048ddcf5748d48cd2911b9eaadd6f"
      ],
      "layout": "IPY_MODEL_0f6190a0044b4aedb336be587c8f0a9d"
     }
    },
    "7cb2933c4fe04fcd909e9c57a0692e68": {
     "model_module": "@jupyter-widgets/controls",
     "model_module_version": "1.5.0",
     "model_name": "FloatProgressModel",
     "state": {
      "_dom_classes": [],
      "_model_module": "@jupyter-widgets/controls",
      "_model_module_version": "1.5.0",
      "_model_name": "FloatProgressModel",
      "_view_count": null,
      "_view_module": "@jupyter-widgets/controls",
      "_view_module_version": "1.5.0",
      "_view_name": "ProgressView",
      "bar_style": "success",
      "description": "",
      "description_tooltip": null,
      "layout": "IPY_MODEL_13d819d7f84e415d8c7af5ef0c66393b",
      "max": 26,
      "min": 0,
      "orientation": "horizontal",
      "style": "IPY_MODEL_49ce891753054fa7aa0ce368e7f660a3",
      "value": 26
     }
    },
    "8667a0a2b6734eb8942cbb45bcf96c69": {
     "model_module": "@jupyter-widgets/controls",
     "model_module_version": "1.5.0",
     "model_name": "DescriptionStyleModel",
     "state": {
      "_model_module": "@jupyter-widgets/controls",
      "_model_module_version": "1.5.0",
      "_model_name": "DescriptionStyleModel",
      "_view_count": null,
      "_view_module": "@jupyter-widgets/base",
      "_view_module_version": "1.2.0",
      "_view_name": "StyleView",
      "description_width": ""
     }
    },
    "86b01e5d0ab5494a81deea08a4bb4fe2": {
     "model_module": "@jupyter-widgets/base",
     "model_module_version": "1.2.0",
     "model_name": "LayoutModel",
     "state": {
      "_model_module": "@jupyter-widgets/base",
      "_model_module_version": "1.2.0",
      "_model_name": "LayoutModel",
      "_view_count": null,
      "_view_module": "@jupyter-widgets/base",
      "_view_module_version": "1.2.0",
      "_view_name": "LayoutView",
      "align_content": null,
      "align_items": null,
      "align_self": null,
      "border": null,
      "bottom": null,
      "display": null,
      "flex": null,
      "flex_flow": null,
      "grid_area": null,
      "grid_auto_columns": null,
      "grid_auto_flow": null,
      "grid_auto_rows": null,
      "grid_column": null,
      "grid_gap": null,
      "grid_row": null,
      "grid_template_areas": null,
      "grid_template_columns": null,
      "grid_template_rows": null,
      "height": null,
      "justify_content": null,
      "justify_items": null,
      "left": null,
      "margin": null,
      "max_height": null,
      "max_width": null,
      "min_height": null,
      "min_width": null,
      "object_fit": null,
      "object_position": null,
      "order": null,
      "overflow": null,
      "overflow_x": null,
      "overflow_y": null,
      "padding": null,
      "right": null,
      "top": null,
      "visibility": null,
      "width": null
     }
    },
    "870048ddcf5748d48cd2911b9eaadd6f": {
     "model_module": "@jupyter-widgets/controls",
     "model_module_version": "1.5.0",
     "model_name": "HTMLModel",
     "state": {
      "_dom_classes": [],
      "_model_module": "@jupyter-widgets/controls",
      "_model_module_version": "1.5.0",
      "_model_name": "HTMLModel",
      "_view_count": null,
      "_view_module": "@jupyter-widgets/controls",
      "_view_module_version": "1.5.0",
      "_view_name": "HTMLView",
      "description": "",
      "description_tooltip": null,
      "layout": "IPY_MODEL_daabec9300df47018baf2337a416237e",
      "placeholder": "​",
      "style": "IPY_MODEL_f2f441433edd4f7492128ef6eac23ac0",
      "value": " 665/665 [00:00&lt;00:00, 12.8kB/s]"
     }
    },
    "8a1891a20bb844e389d6787eb09bf383": {
     "model_module": "@jupyter-widgets/base",
     "model_module_version": "1.2.0",
     "model_name": "LayoutModel",
     "state": {
      "_model_module": "@jupyter-widgets/base",
      "_model_module_version": "1.2.0",
      "_model_name": "LayoutModel",
      "_view_count": null,
      "_view_module": "@jupyter-widgets/base",
      "_view_module_version": "1.2.0",
      "_view_name": "LayoutView",
      "align_content": null,
      "align_items": null,
      "align_self": null,
      "border": null,
      "bottom": null,
      "display": null,
      "flex": null,
      "flex_flow": null,
      "grid_area": null,
      "grid_auto_columns": null,
      "grid_auto_flow": null,
      "grid_auto_rows": null,
      "grid_column": null,
      "grid_gap": null,
      "grid_row": null,
      "grid_template_areas": null,
      "grid_template_columns": null,
      "grid_template_rows": null,
      "height": null,
      "justify_content": null,
      "justify_items": null,
      "left": null,
      "margin": null,
      "max_height": null,
      "max_width": null,
      "min_height": null,
      "min_width": null,
      "object_fit": null,
      "object_position": null,
      "order": null,
      "overflow": null,
      "overflow_x": null,
      "overflow_y": null,
      "padding": null,
      "right": null,
      "top": null,
      "visibility": null,
      "width": null
     }
    },
    "919a495e539f4fd180a1dd47bc31219a": {
     "model_module": "@jupyter-widgets/controls",
     "model_module_version": "1.5.0",
     "model_name": "HBoxModel",
     "state": {
      "_dom_classes": [],
      "_model_module": "@jupyter-widgets/controls",
      "_model_module_version": "1.5.0",
      "_model_name": "HBoxModel",
      "_view_count": null,
      "_view_module": "@jupyter-widgets/controls",
      "_view_module_version": "1.5.0",
      "_view_name": "HBoxView",
      "box_style": "",
      "children": [
       "IPY_MODEL_0bc37c2d2ebd4d2c8b8429d67bc30f61",
       "IPY_MODEL_993fef64aa754707959193d95ab738e4",
       "IPY_MODEL_c2fcb9f1e4e94c6dbad14c2edc9d7436"
      ],
      "layout": "IPY_MODEL_6556889aa71a442c892df198aa27c416"
     }
    },
    "949d466365f448689623ab4ba4e91bdd": {
     "model_module": "@jupyter-widgets/base",
     "model_module_version": "1.2.0",
     "model_name": "LayoutModel",
     "state": {
      "_model_module": "@jupyter-widgets/base",
      "_model_module_version": "1.2.0",
      "_model_name": "LayoutModel",
      "_view_count": null,
      "_view_module": "@jupyter-widgets/base",
      "_view_module_version": "1.2.0",
      "_view_name": "LayoutView",
      "align_content": null,
      "align_items": null,
      "align_self": null,
      "border": null,
      "bottom": null,
      "display": null,
      "flex": null,
      "flex_flow": null,
      "grid_area": null,
      "grid_auto_columns": null,
      "grid_auto_flow": null,
      "grid_auto_rows": null,
      "grid_column": null,
      "grid_gap": null,
      "grid_row": null,
      "grid_template_areas": null,
      "grid_template_columns": null,
      "grid_template_rows": null,
      "height": null,
      "justify_content": null,
      "justify_items": null,
      "left": null,
      "margin": null,
      "max_height": null,
      "max_width": null,
      "min_height": null,
      "min_width": null,
      "object_fit": null,
      "object_position": null,
      "order": null,
      "overflow": null,
      "overflow_x": null,
      "overflow_y": null,
      "padding": null,
      "right": null,
      "top": null,
      "visibility": null,
      "width": null
     }
    },
    "978a8b1565ac458c9d9fec6ac95a8c6d": {
     "model_module": "@jupyter-widgets/controls",
     "model_module_version": "1.5.0",
     "model_name": "HBoxModel",
     "state": {
      "_dom_classes": [],
      "_model_module": "@jupyter-widgets/controls",
      "_model_module_version": "1.5.0",
      "_model_name": "HBoxModel",
      "_view_count": null,
      "_view_module": "@jupyter-widgets/controls",
      "_view_module_version": "1.5.0",
      "_view_name": "HBoxView",
      "box_style": "",
      "children": [
       "IPY_MODEL_561ebb90b50448b1b1cffab55948a908",
       "IPY_MODEL_ec178710526b44be9491ad009e616af4",
       "IPY_MODEL_9aadb028ee614ff9ba1203eaf075c0b5"
      ],
      "layout": "IPY_MODEL_fe505f39d2c9462ea5edb96ba7c6a06c"
     }
    },
    "993fef64aa754707959193d95ab738e4": {
     "model_module": "@jupyter-widgets/controls",
     "model_module_version": "1.5.0",
     "model_name": "FloatProgressModel",
     "state": {
      "_dom_classes": [],
      "_model_module": "@jupyter-widgets/controls",
      "_model_module_version": "1.5.0",
      "_model_name": "FloatProgressModel",
      "_view_count": null,
      "_view_module": "@jupyter-widgets/controls",
      "_view_module_version": "1.5.0",
      "_view_name": "ProgressView",
      "bar_style": "success",
      "description": "",
      "description_tooltip": null,
      "layout": "IPY_MODEL_1d01653d88b0432cb45073fc9aa8bf06",
      "max": 456318,
      "min": 0,
      "orientation": "horizontal",
      "style": "IPY_MODEL_c337a08bed15436f85c6ee3f571f2a01",
      "value": 456318
     }
    },
    "9aadb028ee614ff9ba1203eaf075c0b5": {
     "model_module": "@jupyter-widgets/controls",
     "model_module_version": "1.5.0",
     "model_name": "HTMLModel",
     "state": {
      "_dom_classes": [],
      "_model_module": "@jupyter-widgets/controls",
      "_model_module_version": "1.5.0",
      "_model_name": "HTMLModel",
      "_view_count": null,
      "_view_module": "@jupyter-widgets/controls",
      "_view_module_version": "1.5.0",
      "_view_name": "HTMLView",
      "description": "",
      "description_tooltip": null,
      "layout": "IPY_MODEL_596de35547fd4e23877e4a0c624c20df",
      "placeholder": "​",
      "style": "IPY_MODEL_08469a0b700744d6ace5818dbe9f3f67",
      "value": " 124/124 [00:00&lt;00:00, 1.95kB/s]"
     }
    },
    "9afa959c5a7a474d944673a3c48ed2f1": {
     "model_module": "@jupyter-widgets/controls",
     "model_module_version": "1.5.0",
     "model_name": "DescriptionStyleModel",
     "state": {
      "_model_module": "@jupyter-widgets/controls",
      "_model_module_version": "1.5.0",
      "_model_name": "DescriptionStyleModel",
      "_view_count": null,
      "_view_module": "@jupyter-widgets/base",
      "_view_module_version": "1.2.0",
      "_view_name": "StyleView",
      "description_width": ""
     }
    },
    "a62ff234e2ee410b95c174fe25166354": {
     "model_module": "@jupyter-widgets/controls",
     "model_module_version": "1.5.0",
     "model_name": "HTMLModel",
     "state": {
      "_dom_classes": [],
      "_model_module": "@jupyter-widgets/controls",
      "_model_module_version": "1.5.0",
      "_model_name": "HTMLModel",
      "_view_count": null,
      "_view_module": "@jupyter-widgets/controls",
      "_view_module_version": "1.5.0",
      "_view_name": "HTMLView",
      "description": "",
      "description_tooltip": null,
      "layout": "IPY_MODEL_4ba912c992e6423d8216c8bfd760dafa",
      "placeholder": "​",
      "style": "IPY_MODEL_6287a272bd8a47b1851fa7b22afc10e0",
      "value": " 1.04M/1.04M [00:00&lt;00:00, 2.53MB/s]"
     }
    },
    "a7baca1ed0e64249ac03da5b74d4e3b0": {
     "model_module": "@jupyter-widgets/base",
     "model_module_version": "1.2.0",
     "model_name": "LayoutModel",
     "state": {
      "_model_module": "@jupyter-widgets/base",
      "_model_module_version": "1.2.0",
      "_model_name": "LayoutModel",
      "_view_count": null,
      "_view_module": "@jupyter-widgets/base",
      "_view_module_version": "1.2.0",
      "_view_name": "LayoutView",
      "align_content": null,
      "align_items": null,
      "align_self": null,
      "border": null,
      "bottom": null,
      "display": null,
      "flex": null,
      "flex_flow": null,
      "grid_area": null,
      "grid_auto_columns": null,
      "grid_auto_flow": null,
      "grid_auto_rows": null,
      "grid_column": null,
      "grid_gap": null,
      "grid_row": null,
      "grid_template_areas": null,
      "grid_template_columns": null,
      "grid_template_rows": null,
      "height": null,
      "justify_content": null,
      "justify_items": null,
      "left": null,
      "margin": null,
      "max_height": null,
      "max_width": null,
      "min_height": null,
      "min_width": null,
      "object_fit": null,
      "object_position": null,
      "order": null,
      "overflow": null,
      "overflow_x": null,
      "overflow_y": null,
      "padding": null,
      "right": null,
      "top": null,
      "visibility": null,
      "width": null
     }
    },
    "a82744b0bb964bbfac3d2fa6e9d35ae8": {
     "model_module": "@jupyter-widgets/controls",
     "model_module_version": "1.5.0",
     "model_name": "HTMLModel",
     "state": {
      "_dom_classes": [],
      "_model_module": "@jupyter-widgets/controls",
      "_model_module_version": "1.5.0",
      "_model_name": "HTMLModel",
      "_view_count": null,
      "_view_module": "@jupyter-widgets/controls",
      "_view_module_version": "1.5.0",
      "_view_name": "HTMLView",
      "description": "",
      "description_tooltip": null,
      "layout": "IPY_MODEL_a9caf6976db442a09a1ba47ac7d838a4",
      "placeholder": "​",
      "style": "IPY_MODEL_8667a0a2b6734eb8942cbb45bcf96c69",
      "value": " 1.36M/1.36M [00:00&lt;00:00, 2.17MB/s]"
     }
    },
    "a9caf6976db442a09a1ba47ac7d838a4": {
     "model_module": "@jupyter-widgets/base",
     "model_module_version": "1.2.0",
     "model_name": "LayoutModel",
     "state": {
      "_model_module": "@jupyter-widgets/base",
      "_model_module_version": "1.2.0",
      "_model_name": "LayoutModel",
      "_view_count": null,
      "_view_module": "@jupyter-widgets/base",
      "_view_module_version": "1.2.0",
      "_view_name": "LayoutView",
      "align_content": null,
      "align_items": null,
      "align_self": null,
      "border": null,
      "bottom": null,
      "display": null,
      "flex": null,
      "flex_flow": null,
      "grid_area": null,
      "grid_auto_columns": null,
      "grid_auto_flow": null,
      "grid_auto_rows": null,
      "grid_column": null,
      "grid_gap": null,
      "grid_row": null,
      "grid_template_areas": null,
      "grid_template_columns": null,
      "grid_template_rows": null,
      "height": null,
      "justify_content": null,
      "justify_items": null,
      "left": null,
      "margin": null,
      "max_height": null,
      "max_width": null,
      "min_height": null,
      "min_width": null,
      "object_fit": null,
      "object_position": null,
      "order": null,
      "overflow": null,
      "overflow_x": null,
      "overflow_y": null,
      "padding": null,
      "right": null,
      "top": null,
      "visibility": null,
      "width": null
     }
    },
    "ac0c3a38f7254afb8e549c78148d8469": {
     "model_module": "@jupyter-widgets/controls",
     "model_module_version": "1.5.0",
     "model_name": "HTMLModel",
     "state": {
      "_dom_classes": [],
      "_model_module": "@jupyter-widgets/controls",
      "_model_module_version": "1.5.0",
      "_model_name": "HTMLModel",
      "_view_count": null,
      "_view_module": "@jupyter-widgets/controls",
      "_view_module_version": "1.5.0",
      "_view_name": "HTMLView",
      "description": "",
      "description_tooltip": null,
      "layout": "IPY_MODEL_62c9d1793ee64138bd1058e03c300140",
      "placeholder": "​",
      "style": "IPY_MODEL_b0d82fb4257442edbf4c816b767d8424",
      "value": "tokenizer_config.json: 100%"
     }
    },
    "b0d82fb4257442edbf4c816b767d8424": {
     "model_module": "@jupyter-widgets/controls",
     "model_module_version": "1.5.0",
     "model_name": "DescriptionStyleModel",
     "state": {
      "_model_module": "@jupyter-widgets/controls",
      "_model_module_version": "1.5.0",
      "_model_name": "DescriptionStyleModel",
      "_view_count": null,
      "_view_module": "@jupyter-widgets/base",
      "_view_module_version": "1.2.0",
      "_view_name": "StyleView",
      "description_width": ""
     }
    },
    "b31d7aac8e1b4749aaeaa0058af4d56b": {
     "model_module": "@jupyter-widgets/base",
     "model_module_version": "1.2.0",
     "model_name": "LayoutModel",
     "state": {
      "_model_module": "@jupyter-widgets/base",
      "_model_module_version": "1.2.0",
      "_model_name": "LayoutModel",
      "_view_count": null,
      "_view_module": "@jupyter-widgets/base",
      "_view_module_version": "1.2.0",
      "_view_name": "LayoutView",
      "align_content": null,
      "align_items": null,
      "align_self": null,
      "border": null,
      "bottom": null,
      "display": null,
      "flex": null,
      "flex_flow": null,
      "grid_area": null,
      "grid_auto_columns": null,
      "grid_auto_flow": null,
      "grid_auto_rows": null,
      "grid_column": null,
      "grid_gap": null,
      "grid_row": null,
      "grid_template_areas": null,
      "grid_template_columns": null,
      "grid_template_rows": null,
      "height": null,
      "justify_content": null,
      "justify_items": null,
      "left": null,
      "margin": null,
      "max_height": null,
      "max_width": null,
      "min_height": null,
      "min_width": null,
      "object_fit": null,
      "object_position": null,
      "order": null,
      "overflow": null,
      "overflow_x": null,
      "overflow_y": null,
      "padding": null,
      "right": null,
      "top": null,
      "visibility": null,
      "width": null
     }
    },
    "b3656249342642aa979f2f8e1162186c": {
     "model_module": "@jupyter-widgets/controls",
     "model_module_version": "1.5.0",
     "model_name": "FloatProgressModel",
     "state": {
      "_dom_classes": [],
      "_model_module": "@jupyter-widgets/controls",
      "_model_module_version": "1.5.0",
      "_model_name": "FloatProgressModel",
      "_view_count": null,
      "_view_module": "@jupyter-widgets/controls",
      "_view_module_version": "1.5.0",
      "_view_name": "ProgressView",
      "bar_style": "success",
      "description": "",
      "description_tooltip": null,
      "layout": "IPY_MODEL_fbca70552176434bbc3959cc7ddab48a",
      "max": 665,
      "min": 0,
      "orientation": "horizontal",
      "style": "IPY_MODEL_122eee39945b4410834796d789d8681b",
      "value": 665
     }
    },
    "b9c088d6417d43f6bf711afa21138c26": {
     "model_module": "@jupyter-widgets/base",
     "model_module_version": "1.2.0",
     "model_name": "LayoutModel",
     "state": {
      "_model_module": "@jupyter-widgets/base",
      "_model_module_version": "1.2.0",
      "_model_name": "LayoutModel",
      "_view_count": null,
      "_view_module": "@jupyter-widgets/base",
      "_view_module_version": "1.2.0",
      "_view_name": "LayoutView",
      "align_content": null,
      "align_items": null,
      "align_self": null,
      "border": null,
      "bottom": null,
      "display": null,
      "flex": null,
      "flex_flow": null,
      "grid_area": null,
      "grid_auto_columns": null,
      "grid_auto_flow": null,
      "grid_auto_rows": null,
      "grid_column": null,
      "grid_gap": null,
      "grid_row": null,
      "grid_template_areas": null,
      "grid_template_columns": null,
      "grid_template_rows": null,
      "height": null,
      "justify_content": null,
      "justify_items": null,
      "left": null,
      "margin": null,
      "max_height": null,
      "max_width": null,
      "min_height": null,
      "min_width": null,
      "object_fit": null,
      "object_position": null,
      "order": null,
      "overflow": null,
      "overflow_x": null,
      "overflow_y": null,
      "padding": null,
      "right": null,
      "top": null,
      "visibility": null,
      "width": null
     }
    },
    "c2fcb9f1e4e94c6dbad14c2edc9d7436": {
     "model_module": "@jupyter-widgets/controls",
     "model_module_version": "1.5.0",
     "model_name": "HTMLModel",
     "state": {
      "_dom_classes": [],
      "_model_module": "@jupyter-widgets/controls",
      "_model_module_version": "1.5.0",
      "_model_name": "HTMLModel",
      "_view_count": null,
      "_view_module": "@jupyter-widgets/controls",
      "_view_module_version": "1.5.0",
      "_view_name": "HTMLView",
      "description": "",
      "description_tooltip": null,
      "layout": "IPY_MODEL_cbe322727f6b49c2b451f7f36e639e65",
      "placeholder": "​",
      "style": "IPY_MODEL_4e5443941ffb4ee8b59f9042e63c81a2",
      "value": " 456k/456k [00:00&lt;00:00, 24.0MB/s]"
     }
    },
    "c337a08bed15436f85c6ee3f571f2a01": {
     "model_module": "@jupyter-widgets/controls",
     "model_module_version": "1.5.0",
     "model_name": "ProgressStyleModel",
     "state": {
      "_model_module": "@jupyter-widgets/controls",
      "_model_module_version": "1.5.0",
      "_model_name": "ProgressStyleModel",
      "_view_count": null,
      "_view_module": "@jupyter-widgets/base",
      "_view_module_version": "1.2.0",
      "_view_name": "StyleView",
      "bar_color": null,
      "description_width": ""
     }
    },
    "c9d05f43f3f747eeb0f0825e84ec8be3": {
     "model_module": "@jupyter-widgets/controls",
     "model_module_version": "1.5.0",
     "model_name": "HTMLModel",
     "state": {
      "_dom_classes": [],
      "_model_module": "@jupyter-widgets/controls",
      "_model_module_version": "1.5.0",
      "_model_name": "HTMLModel",
      "_view_count": null,
      "_view_module": "@jupyter-widgets/controls",
      "_view_module_version": "1.5.0",
      "_view_name": "HTMLView",
      "description": "",
      "description_tooltip": null,
      "layout": "IPY_MODEL_541d715303994be39c06e94e307cc51c",
      "placeholder": "​",
      "style": "IPY_MODEL_38e6002c54d54a4ea5a42e5bac5480a0",
      "value": "config.json: 100%"
     }
    },
    "cbe322727f6b49c2b451f7f36e639e65": {
     "model_module": "@jupyter-widgets/base",
     "model_module_version": "1.2.0",
     "model_name": "LayoutModel",
     "state": {
      "_model_module": "@jupyter-widgets/base",
      "_model_module_version": "1.2.0",
      "_model_name": "LayoutModel",
      "_view_count": null,
      "_view_module": "@jupyter-widgets/base",
      "_view_module_version": "1.2.0",
      "_view_name": "LayoutView",
      "align_content": null,
      "align_items": null,
      "align_self": null,
      "border": null,
      "bottom": null,
      "display": null,
      "flex": null,
      "flex_flow": null,
      "grid_area": null,
      "grid_auto_columns": null,
      "grid_auto_flow": null,
      "grid_auto_rows": null,
      "grid_column": null,
      "grid_gap": null,
      "grid_row": null,
      "grid_template_areas": null,
      "grid_template_columns": null,
      "grid_template_rows": null,
      "height": null,
      "justify_content": null,
      "justify_items": null,
      "left": null,
      "margin": null,
      "max_height": null,
      "max_width": null,
      "min_height": null,
      "min_width": null,
      "object_fit": null,
      "object_position": null,
      "order": null,
      "overflow": null,
      "overflow_x": null,
      "overflow_y": null,
      "padding": null,
      "right": null,
      "top": null,
      "visibility": null,
      "width": null
     }
    },
    "d07790d891104e7db8b54619c24c1401": {
     "model_module": "@jupyter-widgets/controls",
     "model_module_version": "1.5.0",
     "model_name": "DescriptionStyleModel",
     "state": {
      "_model_module": "@jupyter-widgets/controls",
      "_model_module_version": "1.5.0",
      "_model_name": "DescriptionStyleModel",
      "_view_count": null,
      "_view_module": "@jupyter-widgets/base",
      "_view_module_version": "1.2.0",
      "_view_name": "StyleView",
      "description_width": ""
     }
    },
    "d0e836dc5e7e4142a3ab90069fa3fe0b": {
     "model_module": "@jupyter-widgets/controls",
     "model_module_version": "1.5.0",
     "model_name": "ProgressStyleModel",
     "state": {
      "_model_module": "@jupyter-widgets/controls",
      "_model_module_version": "1.5.0",
      "_model_name": "ProgressStyleModel",
      "_view_count": null,
      "_view_module": "@jupyter-widgets/base",
      "_view_module_version": "1.2.0",
      "_view_name": "StyleView",
      "bar_color": null,
      "description_width": ""
     }
    },
    "d4f076dbfecd4d00acaee74d62d90cb9": {
     "model_module": "@jupyter-widgets/base",
     "model_module_version": "1.2.0",
     "model_name": "LayoutModel",
     "state": {
      "_model_module": "@jupyter-widgets/base",
      "_model_module_version": "1.2.0",
      "_model_name": "LayoutModel",
      "_view_count": null,
      "_view_module": "@jupyter-widgets/base",
      "_view_module_version": "1.2.0",
      "_view_name": "LayoutView",
      "align_content": null,
      "align_items": null,
      "align_self": null,
      "border": null,
      "bottom": null,
      "display": null,
      "flex": null,
      "flex_flow": null,
      "grid_area": null,
      "grid_auto_columns": null,
      "grid_auto_flow": null,
      "grid_auto_rows": null,
      "grid_column": null,
      "grid_gap": null,
      "grid_row": null,
      "grid_template_areas": null,
      "grid_template_columns": null,
      "grid_template_rows": null,
      "height": null,
      "justify_content": null,
      "justify_items": null,
      "left": null,
      "margin": null,
      "max_height": null,
      "max_width": null,
      "min_height": null,
      "min_width": null,
      "object_fit": null,
      "object_position": null,
      "order": null,
      "overflow": null,
      "overflow_x": null,
      "overflow_y": null,
      "padding": null,
      "right": null,
      "top": null,
      "visibility": null,
      "width": null
     }
    },
    "d602d0b79e5647dc96056c80624266f5": {
     "model_module": "@jupyter-widgets/controls",
     "model_module_version": "1.5.0",
     "model_name": "ProgressStyleModel",
     "state": {
      "_model_module": "@jupyter-widgets/controls",
      "_model_module_version": "1.5.0",
      "_model_name": "ProgressStyleModel",
      "_view_count": null,
      "_view_module": "@jupyter-widgets/base",
      "_view_module_version": "1.2.0",
      "_view_name": "StyleView",
      "bar_color": null,
      "description_width": ""
     }
    },
    "d9015a4934204f8182d15624caef04a4": {
     "model_module": "@jupyter-widgets/controls",
     "model_module_version": "1.5.0",
     "model_name": "HBoxModel",
     "state": {
      "_dom_classes": [],
      "_model_module": "@jupyter-widgets/controls",
      "_model_module_version": "1.5.0",
      "_model_name": "HBoxModel",
      "_view_count": null,
      "_view_module": "@jupyter-widgets/controls",
      "_view_module_version": "1.5.0",
      "_view_name": "HBoxView",
      "box_style": "",
      "children": [
       "IPY_MODEL_68cd8ceae0234c03a22255ddfdc5caea",
       "IPY_MODEL_f4002a211bed428e8c92ee12c9fa3587",
       "IPY_MODEL_a82744b0bb964bbfac3d2fa6e9d35ae8"
      ],
      "layout": "IPY_MODEL_949d466365f448689623ab4ba4e91bdd"
     }
    },
    "d987c6e041564e69b5addde6f6ed295a": {
     "model_module": "@jupyter-widgets/controls",
     "model_module_version": "1.5.0",
     "model_name": "HTMLModel",
     "state": {
      "_dom_classes": [],
      "_model_module": "@jupyter-widgets/controls",
      "_model_module_version": "1.5.0",
      "_model_name": "HTMLModel",
      "_view_count": null,
      "_view_module": "@jupyter-widgets/controls",
      "_view_module_version": "1.5.0",
      "_view_name": "HTMLView",
      "description": "",
      "description_tooltip": null,
      "layout": "IPY_MODEL_b9c088d6417d43f6bf711afa21138c26",
      "placeholder": "​",
      "style": "IPY_MODEL_d07790d891104e7db8b54619c24c1401",
      "value": " 548M/548M [00:02&lt;00:00, 227MB/s]"
     }
    },
    "daabec9300df47018baf2337a416237e": {
     "model_module": "@jupyter-widgets/base",
     "model_module_version": "1.2.0",
     "model_name": "LayoutModel",
     "state": {
      "_model_module": "@jupyter-widgets/base",
      "_model_module_version": "1.2.0",
      "_model_name": "LayoutModel",
      "_view_count": null,
      "_view_module": "@jupyter-widgets/base",
      "_view_module_version": "1.2.0",
      "_view_name": "LayoutView",
      "align_content": null,
      "align_items": null,
      "align_self": null,
      "border": null,
      "bottom": null,
      "display": null,
      "flex": null,
      "flex_flow": null,
      "grid_area": null,
      "grid_auto_columns": null,
      "grid_auto_flow": null,
      "grid_auto_rows": null,
      "grid_column": null,
      "grid_gap": null,
      "grid_row": null,
      "grid_template_areas": null,
      "grid_template_columns": null,
      "grid_template_rows": null,
      "height": null,
      "justify_content": null,
      "justify_items": null,
      "left": null,
      "margin": null,
      "max_height": null,
      "max_width": null,
      "min_height": null,
      "min_width": null,
      "object_fit": null,
      "object_position": null,
      "order": null,
      "overflow": null,
      "overflow_x": null,
      "overflow_y": null,
      "padding": null,
      "right": null,
      "top": null,
      "visibility": null,
      "width": null
     }
    },
    "dd5271a4c7b7401ca08db526e91e2bb4": {
     "model_module": "@jupyter-widgets/base",
     "model_module_version": "1.2.0",
     "model_name": "LayoutModel",
     "state": {
      "_model_module": "@jupyter-widgets/base",
      "_model_module_version": "1.2.0",
      "_model_name": "LayoutModel",
      "_view_count": null,
      "_view_module": "@jupyter-widgets/base",
      "_view_module_version": "1.2.0",
      "_view_name": "LayoutView",
      "align_content": null,
      "align_items": null,
      "align_self": null,
      "border": null,
      "bottom": null,
      "display": null,
      "flex": null,
      "flex_flow": null,
      "grid_area": null,
      "grid_auto_columns": null,
      "grid_auto_flow": null,
      "grid_auto_rows": null,
      "grid_column": null,
      "grid_gap": null,
      "grid_row": null,
      "grid_template_areas": null,
      "grid_template_columns": null,
      "grid_template_rows": null,
      "height": null,
      "justify_content": null,
      "justify_items": null,
      "left": null,
      "margin": null,
      "max_height": null,
      "max_width": null,
      "min_height": null,
      "min_width": null,
      "object_fit": null,
      "object_position": null,
      "order": null,
      "overflow": null,
      "overflow_x": null,
      "overflow_y": null,
      "padding": null,
      "right": null,
      "top": null,
      "visibility": null,
      "width": null
     }
    },
    "df37428381d342a5a6226ec75f96c3a8": {
     "model_module": "@jupyter-widgets/controls",
     "model_module_version": "1.5.0",
     "model_name": "HTMLModel",
     "state": {
      "_dom_classes": [],
      "_model_module": "@jupyter-widgets/controls",
      "_model_module_version": "1.5.0",
      "_model_name": "HTMLModel",
      "_view_count": null,
      "_view_module": "@jupyter-widgets/controls",
      "_view_module_version": "1.5.0",
      "_view_name": "HTMLView",
      "description": "",
      "description_tooltip": null,
      "layout": "IPY_MODEL_3a44ed4ca0894f8090bdb02fc8c38d30",
      "placeholder": "​",
      "style": "IPY_MODEL_281f3325599145eba67c558a7d6db372",
      "value": "model.safetensors: 100%"
     }
    },
    "e4785629b012416e94e55fdc47241ca7": {
     "model_module": "@jupyter-widgets/controls",
     "model_module_version": "1.5.0",
     "model_name": "HBoxModel",
     "state": {
      "_dom_classes": [],
      "_model_module": "@jupyter-widgets/controls",
      "_model_module_version": "1.5.0",
      "_model_name": "HBoxModel",
      "_view_count": null,
      "_view_module": "@jupyter-widgets/controls",
      "_view_module_version": "1.5.0",
      "_view_name": "HBoxView",
      "box_style": "",
      "children": [
       "IPY_MODEL_df37428381d342a5a6226ec75f96c3a8",
       "IPY_MODEL_42795ce8a31d4c7d87bf1429e524dfe8",
       "IPY_MODEL_d987c6e041564e69b5addde6f6ed295a"
      ],
      "layout": "IPY_MODEL_b31d7aac8e1b4749aaeaa0058af4d56b"
     }
    },
    "ea14d1c5ba9f452085abd7b69eda0491": {
     "model_module": "@jupyter-widgets/controls",
     "model_module_version": "1.5.0",
     "model_name": "ProgressStyleModel",
     "state": {
      "_model_module": "@jupyter-widgets/controls",
      "_model_module_version": "1.5.0",
      "_model_name": "ProgressStyleModel",
      "_view_count": null,
      "_view_module": "@jupyter-widgets/base",
      "_view_module_version": "1.2.0",
      "_view_name": "StyleView",
      "bar_color": null,
      "description_width": ""
     }
    },
    "ec178710526b44be9491ad009e616af4": {
     "model_module": "@jupyter-widgets/controls",
     "model_module_version": "1.5.0",
     "model_name": "FloatProgressModel",
     "state": {
      "_dom_classes": [],
      "_model_module": "@jupyter-widgets/controls",
      "_model_module_version": "1.5.0",
      "_model_name": "FloatProgressModel",
      "_view_count": null,
      "_view_module": "@jupyter-widgets/controls",
      "_view_module_version": "1.5.0",
      "_view_name": "ProgressView",
      "bar_style": "success",
      "description": "",
      "description_tooltip": null,
      "layout": "IPY_MODEL_0a4e58b8168944da983dbc8367ff127f",
      "max": 124,
      "min": 0,
      "orientation": "horizontal",
      "style": "IPY_MODEL_ea14d1c5ba9f452085abd7b69eda0491",
      "value": 124
     }
    },
    "f2f441433edd4f7492128ef6eac23ac0": {
     "model_module": "@jupyter-widgets/controls",
     "model_module_version": "1.5.0",
     "model_name": "DescriptionStyleModel",
     "state": {
      "_model_module": "@jupyter-widgets/controls",
      "_model_module_version": "1.5.0",
      "_model_name": "DescriptionStyleModel",
      "_view_count": null,
      "_view_module": "@jupyter-widgets/base",
      "_view_module_version": "1.2.0",
      "_view_name": "StyleView",
      "description_width": ""
     }
    },
    "f4002a211bed428e8c92ee12c9fa3587": {
     "model_module": "@jupyter-widgets/controls",
     "model_module_version": "1.5.0",
     "model_name": "FloatProgressModel",
     "state": {
      "_dom_classes": [],
      "_model_module": "@jupyter-widgets/controls",
      "_model_module_version": "1.5.0",
      "_model_name": "FloatProgressModel",
      "_view_count": null,
      "_view_module": "@jupyter-widgets/controls",
      "_view_module_version": "1.5.0",
      "_view_name": "ProgressView",
      "bar_style": "success",
      "description": "",
      "description_tooltip": null,
      "layout": "IPY_MODEL_d4f076dbfecd4d00acaee74d62d90cb9",
      "max": 1355256,
      "min": 0,
      "orientation": "horizontal",
      "style": "IPY_MODEL_45ab8e3075ad445aa711024a7092b66d",
      "value": 1355256
     }
    },
    "fa00fca77fac41a7b650d8774fa93330": {
     "model_module": "@jupyter-widgets/base",
     "model_module_version": "1.2.0",
     "model_name": "LayoutModel",
     "state": {
      "_model_module": "@jupyter-widgets/base",
      "_model_module_version": "1.2.0",
      "_model_name": "LayoutModel",
      "_view_count": null,
      "_view_module": "@jupyter-widgets/base",
      "_view_module_version": "1.2.0",
      "_view_name": "LayoutView",
      "align_content": null,
      "align_items": null,
      "align_self": null,
      "border": null,
      "bottom": null,
      "display": null,
      "flex": null,
      "flex_flow": null,
      "grid_area": null,
      "grid_auto_columns": null,
      "grid_auto_flow": null,
      "grid_auto_rows": null,
      "grid_column": null,
      "grid_gap": null,
      "grid_row": null,
      "grid_template_areas": null,
      "grid_template_columns": null,
      "grid_template_rows": null,
      "height": null,
      "justify_content": null,
      "justify_items": null,
      "left": null,
      "margin": null,
      "max_height": null,
      "max_width": null,
      "min_height": null,
      "min_width": null,
      "object_fit": null,
      "object_position": null,
      "order": null,
      "overflow": null,
      "overflow_x": null,
      "overflow_y": null,
      "padding": null,
      "right": null,
      "top": null,
      "visibility": null,
      "width": null
     }
    },
    "fbca70552176434bbc3959cc7ddab48a": {
     "model_module": "@jupyter-widgets/base",
     "model_module_version": "1.2.0",
     "model_name": "LayoutModel",
     "state": {
      "_model_module": "@jupyter-widgets/base",
      "_model_module_version": "1.2.0",
      "_model_name": "LayoutModel",
      "_view_count": null,
      "_view_module": "@jupyter-widgets/base",
      "_view_module_version": "1.2.0",
      "_view_name": "LayoutView",
      "align_content": null,
      "align_items": null,
      "align_self": null,
      "border": null,
      "bottom": null,
      "display": null,
      "flex": null,
      "flex_flow": null,
      "grid_area": null,
      "grid_auto_columns": null,
      "grid_auto_flow": null,
      "grid_auto_rows": null,
      "grid_column": null,
      "grid_gap": null,
      "grid_row": null,
      "grid_template_areas": null,
      "grid_template_columns": null,
      "grid_template_rows": null,
      "height": null,
      "justify_content": null,
      "justify_items": null,
      "left": null,
      "margin": null,
      "max_height": null,
      "max_width": null,
      "min_height": null,
      "min_width": null,
      "object_fit": null,
      "object_position": null,
      "order": null,
      "overflow": null,
      "overflow_x": null,
      "overflow_y": null,
      "padding": null,
      "right": null,
      "top": null,
      "visibility": null,
      "width": null
     }
    },
    "fe505f39d2c9462ea5edb96ba7c6a06c": {
     "model_module": "@jupyter-widgets/base",
     "model_module_version": "1.2.0",
     "model_name": "LayoutModel",
     "state": {
      "_model_module": "@jupyter-widgets/base",
      "_model_module_version": "1.2.0",
      "_model_name": "LayoutModel",
      "_view_count": null,
      "_view_module": "@jupyter-widgets/base",
      "_view_module_version": "1.2.0",
      "_view_name": "LayoutView",
      "align_content": null,
      "align_items": null,
      "align_self": null,
      "border": null,
      "bottom": null,
      "display": null,
      "flex": null,
      "flex_flow": null,
      "grid_area": null,
      "grid_auto_columns": null,
      "grid_auto_flow": null,
      "grid_auto_rows": null,
      "grid_column": null,
      "grid_gap": null,
      "grid_row": null,
      "grid_template_areas": null,
      "grid_template_columns": null,
      "grid_template_rows": null,
      "height": null,
      "justify_content": null,
      "justify_items": null,
      "left": null,
      "margin": null,
      "max_height": null,
      "max_width": null,
      "min_height": null,
      "min_width": null,
      "object_fit": null,
      "object_position": null,
      "order": null,
      "overflow": null,
      "overflow_x": null,
      "overflow_y": null,
      "padding": null,
      "right": null,
      "top": null,
      "visibility": null,
      "width": null
     }
    },
    "ff56222b6c764cedaa82d83a4ff8ca02": {
     "model_module": "@jupyter-widgets/controls",
     "model_module_version": "1.5.0",
     "model_name": "DescriptionStyleModel",
     "state": {
      "_model_module": "@jupyter-widgets/controls",
      "_model_module_version": "1.5.0",
      "_model_name": "DescriptionStyleModel",
      "_view_count": null,
      "_view_module": "@jupyter-widgets/base",
      "_view_module_version": "1.2.0",
      "_view_name": "StyleView",
      "description_width": ""
     }
    }
   }
  }
 },
 "nbformat": 4,
 "nbformat_minor": 0
}
